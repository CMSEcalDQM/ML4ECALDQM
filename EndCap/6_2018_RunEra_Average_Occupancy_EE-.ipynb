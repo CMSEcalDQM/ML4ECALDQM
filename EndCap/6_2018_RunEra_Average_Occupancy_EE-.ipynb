{
 "cells": [
  {
   "cell_type": "code",
   "execution_count": 1,
   "id": "20158c54",
   "metadata": {},
   "outputs": [
    {
     "name": "stdout",
     "output_type": "stream",
     "text": [
      "Welcome to JupyROOT 6.24/02\n"
     ]
    }
   ],
   "source": [
    "import numpy as np\n",
    "import pyarrow.parquet as pq\n",
    "import matplotlib.pyplot as plt\n",
    "from matplotlib.colors import LogNorm\n",
    "from matplotlib.ticker import MaxNLocator\n",
    "from skimage.measure import block_reduce # pip install scikit-image\n",
    "import mpl_scatter_density\n",
    "import glob, os, time\n",
    "from torch.utils.data import Dataset, ConcatDataset, DataLoader, sampler\n",
    "import torch\n",
    "import torch.nn as nn\n",
    "import torch.nn.functional as F\n",
    "import torch.optim as optim\n",
    "from torchsummary import summary\n",
    "from sklearn.metrics import roc_curve, auc\n",
    "from utils import *\n",
    "import warnings\n",
    "import copy\n",
    "warnings.filterwarnings('ignore')\n",
    "%matplotlib inline\n",
    "np.random.seed(0)"
   ]
  },
  {
   "cell_type": "code",
   "execution_count": 2,
   "id": "819d91e7",
   "metadata": {},
   "outputs": [
    {
     "data": {
      "text/plain": [
       "0"
      ]
     },
     "execution_count": 2,
     "metadata": {},
     "output_type": "execute_result"
    }
   ],
   "source": [
    "figOutDir = './PLOTS/6_2018_RunEra_Average_Occupancy_EE-/'\n",
    "os.system('mkdir -p {}'.format(figOutDir))"
   ]
  },
  {
   "cell_type": "code",
   "execution_count": 3,
   "id": "d37b7424",
   "metadata": {},
   "outputs": [
    {
     "name": "stdout",
     "output_type": "stream",
     "text": [
      "Total number of parquet files: 240\n",
      "\n",
      "Error reading the file below: \n",
      "../DATA/500ev_EE_ECALDQM_run316766.parquet\n"
     ]
    }
   ],
   "source": [
    "# Import data\n",
    "\n",
    "files = glob.glob('../DATA/500ev_EE_ECALDQM_*.parquet')\n",
    "print('Total number of parquet files: {}'.format(len(files)))\n",
    "#f = [pq.ParquetFile(i) for i in files]\n",
    "\n",
    "print('\\nError reading the file below: ')\n",
    "f = []\n",
    "for i in range(len(files)):\n",
    "    try:\n",
    "        f.append(pq.ParquetFile(files[i]))\n",
    "    except:\n",
    "        print(files[i])\n",
    "        files[i] = None\n",
    "files.remove(None)\n",
    "\n",
    "nEntries = [i.num_row_groups for i in f] "
   ]
  },
  {
   "cell_type": "code",
   "execution_count": 4,
   "id": "7b512741",
   "metadata": {},
   "outputs": [],
   "source": [
    "class ParquetDataset(Dataset):\n",
    "    def __init__(self, file):\n",
    "        self.parquet = pq.ParquetFile(file)\n",
    "        self.cols = ['PU', 'lumi', 'EEOccupancyTask_EEOT_digi_occupancy_EE_m.list.item.list.item', 'EEOccupancyTask_EEOT_digi_occupancy_EE_p.list.item.list.item']\n",
    "    def __getitem__(self, index):\n",
    "        data = dict([])\n",
    "        for key in self.cols:\n",
    "            key = key.split('.')[0]\n",
    "            try:\n",
    "                data[key] = np.float64(self.parquet.read_row_groups(index, columns=[key]).to_pydict()[key])\n",
    "            except:\n",
    "                data[key] = np.float64(self.parquet.read_row_group(index, columns=[key]).to_pydict()[key])\n",
    "        return data\n",
    "    def __len__(self):\n",
    "        return self.parquet.num_row_groups"
   ]
  },
  {
   "cell_type": "code",
   "execution_count": 5,
   "id": "cdb7cc32",
   "metadata": {},
   "outputs": [],
   "source": [
    "dataset = {'A': [], 'B': [], 'C': [], 'D': []}\n",
    "\n",
    "for f in files:\n",
    "    nRun = int(f.split('./DATA/500ev_EE_ECALDQM_run')[-1].split('.parquet')[0])\n",
    "    \n",
    "    if nRun >= 315257 and nRun <= 316995:\n",
    "        dataset['A'].append(f)\n",
    "    elif nRun >= 317080 and nRun <= 319077:\n",
    "        dataset['B'].append(f)\n",
    "    elif nRun >= 319337 and nRun <= 320065:\n",
    "        dataset['C'].append(f)\n",
    "    elif nRun >= 320673 and nRun <= 325172:\n",
    "        dataset['D'].append(f)\n",
    "    else:\n",
    "        print('Run {} does not belong to A-D.\\n'.format(nRun))"
   ]
  },
  {
   "cell_type": "code",
   "execution_count": 6,
   "id": "6eebaf13",
   "metadata": {},
   "outputs": [
    {
     "name": "stdout",
     "output_type": "stream",
     "text": [
      "Run2018A: 100 runs\n",
      "Run2018B: 44 runs\n",
      "Run2018C: 65 runs\n",
      "Run2018D: 30 runs\n",
      "Total # of runs: 239\n"
     ]
    }
   ],
   "source": [
    "nDataAll = 0\n",
    "\n",
    "for era, data in dataset.items():\n",
    "    nDataAll += len(data)\n",
    "    print('Run2018{}: {} runs'.format(era, len(data)))\n",
    "    \n",
    "print('Total # of runs: {}'.format(nDataAll))"
   ]
  },
  {
   "cell_type": "code",
   "execution_count": 7,
   "id": "0394e4a6",
   "metadata": {},
   "outputs": [],
   "source": [
    "datasetAll = ConcatDataset([ParquetDataset(f) for f in files])\n",
    "\n",
    "for era, data in dataset.items():\n",
    "    dataset[era] = ConcatDataset([ParquetDataset(f) for f in dataset[era]])"
   ]
  },
  {
   "cell_type": "code",
   "execution_count": 8,
   "id": "df40530e",
   "metadata": {},
   "outputs": [],
   "source": [
    "# Validation dataset for each run era\n",
    "batch_size = 3 # time correction\n",
    "\n",
    "val_sampler_run = {'A': None, 'B': None, 'C': None, 'D': None}\n",
    "val_loader_run = {'A': None, 'B': None, 'C': None, 'D': None}\n",
    "\n",
    "val_sampler_run['A'] = sampler.SequentialSampler(range(len(dataset['A'])))\n",
    "val_loader_run['A'] = DataLoader(dataset=dataset['A'], batch_size=batch_size, num_workers=10, sampler=val_sampler_run['A'], pin_memory=True, drop_last=True)\n",
    "\n",
    "val_sampler_run['B'] = sampler.SequentialSampler(range(len(dataset['B'])))\n",
    "val_loader_run['B'] = DataLoader(dataset=dataset['B'], batch_size=batch_size, num_workers=10, sampler=val_sampler_run['B'], pin_memory=True, drop_last=True)\n",
    "\n",
    "val_sampler_run['C'] = sampler.SequentialSampler(range(len(dataset['C'])))\n",
    "val_loader_run['C'] = DataLoader(dataset=dataset['C'], batch_size=batch_size, num_workers=10, sampler=val_sampler_run['C'], pin_memory=True, drop_last=True)\n",
    "\n",
    "val_sampler_run['D'] = sampler.SequentialSampler(range(len(dataset['D'])))\n",
    "val_loader_run['D'] = DataLoader(dataset=dataset['D'], batch_size=batch_size, num_workers=10, sampler=val_sampler_run['D'], pin_memory=True, drop_last=True)"
   ]
  },
  {
   "cell_type": "code",
   "execution_count": 9,
   "id": "ae844724",
   "metadata": {},
   "outputs": [],
   "source": [
    "# GPU\n",
    "os.environ[\"CUDA_VISIBLE_DEVICES\"] = '1'\n",
    "device = torch.device(\"cuda:0\" if torch.cuda.is_available() else \"cpu\")"
   ]
  },
  {
   "cell_type": "markdown",
   "id": "380d88fc",
   "metadata": {},
   "source": [
    "### Functions: Plot Images, Apply PU Correction, Apply Fake Anomalies, Add Padding around the Images"
   ]
  },
  {
   "cell_type": "code",
   "execution_count": 10,
   "id": "0a18ea37",
   "metadata": {},
   "outputs": [],
   "source": [
    "# 2D img plot\n",
    "def plot_2D(img, title = '', doColorbar=True, doLog=False, label='', xlabel='ix', ylabel='iy', vmax=0, doTick=True, doSave=False, figName='plot'):\n",
    "    fig, ax = plt.subplots()\n",
    "\n",
    "    cmap = plt.cm.get_cmap('jet')\n",
    "    cmap.set_bad(color='black')\n",
    "    cmap.set_under(color='white')\n",
    "    \n",
    "    ax.imshow(np.zeros_like(img), origin='lower', cmap=cmap)\n",
    "    ax.yaxis.set_major_locator(MaxNLocator(integer=True))\n",
    "    ax.xaxis.set_major_locator(MaxNLocator(integer=True))\n",
    "\n",
    "    if doLog:\n",
    "        im = ax.imshow(img, origin='lower', norm=LogNorm(), cmap=cmap)\n",
    "        if vmax != 0:\n",
    "            im = ax.imshow(img, origin='lower', norm=LogNorm(), cmap=cmap, vmax=vmax)\n",
    "    else:\n",
    "        im = ax.imshow(img, origin='lower', cmap=cmap)\n",
    "        if vmax != 0:\n",
    "            im = ax.imshow(img, origin='lower', cmap=cmap, vmax=vmax)\n",
    "\n",
    "    if doColorbar:\n",
    "        ax.figure.colorbar(im, ax=ax, fraction=0.045, pad=0.015, label=label)\n",
    "        \n",
    "    off = 0.5\n",
    "    \n",
    "    if doTick:\n",
    "        ax.set_xticks(np.arange(0,22,2)-off)\n",
    "        ax.set_yticks(np.arange(0,22,2)-off)\n",
    "\n",
    "        ax.set_xticklabels(np.arange(0,22,2))\n",
    "        ax.set_yticklabels(np.arange(0,22,2))\n",
    "    \n",
    "    # HORIZONTAL DASHES\n",
    "    for i in np.arange(0, 20, 2):\n",
    "        x1, x2 = 0, 20\n",
    "        y1, y2 = i, i\n",
    "        ax.plot([x1-off, x2-off],[y1-off, y2-off], linewidth=1, linestyle='--', color='black')\n",
    "    # VERTICAL DASHES\n",
    "    for i in np.arange(0, 20, 2):\n",
    "        x1, x2 = i, i\n",
    "        y1, y2 = 0, 20\n",
    "        ax.plot([x1-off, x2-off],[y1-off, y2-off], linewidth=1, linestyle='--', color='black')\n",
    "\n",
    "    \n",
    "    # labels\n",
    "    plt.xlabel(xlabel, size=11)\n",
    "    plt.ylabel(ylabel, size=11)\n",
    "    plt.title(title, fontsize=13)\n",
    "    \n",
    "    if doSave:\n",
    "        plt.savefig('{}.png'.format(figName))\n",
    "    \n",
    "    plt.show()"
   ]
  },
  {
   "cell_type": "code",
   "execution_count": 11,
   "id": "6b77da84",
   "metadata": {},
   "outputs": [],
   "source": [
    "# Linear regression on Total Occupancy vs. PU\n",
    "\n",
    "# Apply PU correction to occupancy maps for all LS\n",
    "# Then multiply by # of towers (20x20) to make the mean occupancy across the pixels 1.\n",
    "\n",
    "def applyPUcorr(img, PU, fit):\n",
    "    scale = fit[0]*PU+fit[1]\n",
    "\n",
    "    # reshape the `scale` tensor if necessary to perform division with `img` tensor, to match the dimensions\n",
    "    # -> if the img tensor has the size of e.g. [batch_size, 1, 20, 20] whereas PU has the size [batch_size, 1],\n",
    "    # -> you need to reshape the PU tensor as [batch_size, 1, 1, 1] by adding the extra 2 dimensions\n",
    "    # -> but if img and PU tensor have the same shape, you don't add any extra dimensions\n",
    "    scaleShape = list(scale.shape)\n",
    "    extraDim = [1]*(len(img.shape)-len(PU.shape)) # additional dimensions\n",
    "    scaleShape += extraDim\n",
    "    \n",
    "    scale = scale.reshape(torch.Size(scaleShape))\n",
    "    \n",
    "    corrected = img / scale\n",
    "\n",
    "    return 20*20*corrected"
   ]
  },
  {
   "cell_type": "code",
   "execution_count": 12,
   "id": "012ec891",
   "metadata": {},
   "outputs": [],
   "source": [
    "def generateFakeAnomCoord(validIndex, nCoord):\n",
    "    np.random.seed(0)\n",
    "    fakeIndex = np.random.randint(0, len(validIndex), size=nCoord) # nCoord == batch_size * (# of batches)\n",
    "    fakeCoord = [validIndex[i] for i in fakeIndex]\n",
    "    \n",
    "    return fakeCoord\n",
    "\n",
    "def applyFakeAnomaly(img, fakeIndex, anomValue=0):\n",
    "    if len(fakeIndex) == 2:\n",
    "        nAnomForLS = int(img.shape[0]) - int(torch.count_nonzero(img[range(img.shape[0]), :, fakeIndex[0], fakeIndex[1]]))\n",
    "        if nAnomForLS != 0:\n",
    "            print('Already dead '*nAnomForLS)\n",
    "        \n",
    "        img[range(img.shape[0]), :, fakeIndex[0], fakeIndex[1]] = anomValue\n",
    "    # img has the shape of (N of images, N of layers, rows, cols)\n",
    "    else:\n",
    "        fakeIndex = torch.tensor(fakeIndex)\n",
    "        fakeRows = fakeIndex[:,0]  # extract list of rows\n",
    "        fakeCols = fakeIndex[:,1]  # extract list of cols\n",
    "\n",
    "        nAnomForLS = int(img.shape[0]) - int(torch.count_nonzero(img[range(img.shape[0]), :, fakeRows, fakeCols]))\n",
    "        if nAnomForLS != 0:\n",
    "            print('Already dead '*nAnomForLS)\n",
    "\n",
    "        img[range(img.shape[0]), :, fakeRows, fakeCols] = anomValue\n",
    "        \n",
    "    return img"
   ]
  },
  {
   "cell_type": "code",
   "execution_count": 13,
   "id": "9c9e5de5",
   "metadata": {},
   "outputs": [],
   "source": [
    "def addPadding(img):\n",
    "    if len(img.shape) == 2:\n",
    "        pad_top = torch.unsqueeze(img[img.shape[1]-1,:],0)\n",
    "        img = torch.cat((img, pad_top), 0)\n",
    "        #plot_2D(img)\n",
    "\n",
    "        pad_bottom = torch.unsqueeze(img[0,:],0)\n",
    "        img = torch.cat((pad_bottom, img), 0)\n",
    "        #plot_2D(img)\n",
    "\n",
    "        pad_left = torch.unsqueeze(img[:,0], 1)\n",
    "        img = torch.cat((pad_left, img), 1)\n",
    "        #plot_2D(img)\n",
    "\n",
    "        pad_right = torch.unsqueeze(img[:,img.shape[1]-1], 1)\n",
    "        img = torch.cat((img, pad_right), 1)\n",
    "        #plot_2D(img.detach().cpu())\n",
    "        \n",
    "    elif len(img.shape) == 4:\n",
    "        pad_top = torch.unsqueeze(img[:,:,img.shape[2]-1,:],2)\n",
    "        img = torch.cat((img, pad_top), 2)\n",
    "        #plot_2D(img[10][0].detach().cpu())\n",
    "        \n",
    "        pad_bottom = torch.unsqueeze(img[:,:,0,:],2)\n",
    "        img = torch.cat((pad_bottom, img), 2)\n",
    "        #plot_2D(img[10][0].detach().cpu())\n",
    "           \n",
    "        pad_left = torch.unsqueeze(img[:,:,:,0], 3)\n",
    "        img = torch.cat((pad_left, img), 3)\n",
    "        #plot_2D(img[10][0].detach().cpu())\n",
    "        \n",
    "        pad_right = torch.unsqueeze(img[:,:,:,img.shape[3]-1], 3)\n",
    "        img = torch.cat((img, pad_right), 3)\n",
    "        #plot_2D(img[10][0].detach().cpu())\n",
    "        \n",
    "    return img"
   ]
  },
  {
   "cell_type": "markdown",
   "id": "11ee0684",
   "metadata": {},
   "source": [
    "### Import: Average Occupancy Map, Valid Tower List, PU Fit Parameters"
   ]
  },
  {
   "cell_type": "code",
   "execution_count": 14,
   "id": "10d8ac9f",
   "metadata": {},
   "outputs": [],
   "source": [
    "avg_occ_dir = './Avg_Occupancy/'\n",
    "\n",
    "avg_occupancy_run = {'A': {'p': np.array([[0.]*20]*20), 'm': np.array([[0.]*20]*20)}, 'B': {'p': np.array([[0.]*20]*20), 'm': np.array([[0.]*20]*20)}, 'C': {'p': np.array([[0.]*20]*20), 'm': np.array([[0.]*20]*20)}, 'D': {'p': np.array([[0.]*20]*20), 'm': np.array([[0.]*20]*20)}}\n",
    "for era in ['A', 'B', 'C', 'D']:\n",
    "    avg_occupancy_run[era]['p'] = np.loadtxt('{}avg_occupancy_EEp_Run{}.csv'.format(avg_occ_dir, era), delimiter=',')\n",
    "    avg_occupancy_run[era]['m'] = np.loadtxt('{}avg_occupancy_EEm_Run{}.csv'.format(avg_occ_dir, era), delimiter=',')"
   ]
  },
  {
   "cell_type": "code",
   "execution_count": 44,
   "id": "26991b71",
   "metadata": {},
   "outputs": [],
   "source": [
    "avg_occupancy_runAtoB = {'p': np.loadtxt('{}avg_occupancy_EEp_RunAtoB.csv'.format(avg_occ_dir), delimiter=','), 'm': np.loadtxt('{}avg_occupancy_EEm_RunAtoB.csv'.format(avg_occ_dir), delimiter=',')}\n",
    "avg_occupancy_runAtoC = {'p': np.loadtxt('{}avg_occupancy_EEp_RunAtoC.csv'.format(avg_occ_dir), delimiter=','), 'm': np.loadtxt('{}avg_occupancy_EEm_RunAtoC.csv'.format(avg_occ_dir), delimiter=',')}"
   ]
  },
  {
   "cell_type": "code",
   "execution_count": 15,
   "id": "7ad48fe1",
   "metadata": {},
   "outputs": [],
   "source": [
    "valid_tower_dir = './Valid_Tower_List/'\n",
    "validIndex = {'p': list(np.loadtxt('{}valid_towers_EEp.csv'.format(valid_tower_dir), delimiter=',').astype(int)), 'm': list(np.loadtxt('{}valid_towers_EEm.csv'.format(valid_tower_dir), delimiter=',').astype(int))}\n",
    "\n",
    "validIndex['p'] = [ idx.tolist() for idx in validIndex['p']]\n",
    "validIndex['m'] = [ idx.tolist() for idx in validIndex['m']]\n",
    "\n",
    "validIndex['p'].remove([7,0])"
   ]
  },
  {
   "cell_type": "code",
   "execution_count": 16,
   "id": "b9f9e7c8",
   "metadata": {},
   "outputs": [],
   "source": [
    "PUdir = './PU_Correction/'\n",
    "\n",
    "fit_run = {'A': {'p': [], 'm': []}, 'B': {'p': [], 'm': []}, 'C': {'p': [], 'm': []}, 'D': {'p': [], 'm': []}}\n",
    "for era in ['A', 'B', 'C', 'D']:\n",
    "    fit_run[era]['p'] = np.loadtxt('{}EEp_PU_Correction_Factor_Run{}.csv'.format(PUdir, era), delimiter=',')\n",
    "    fit_run[era]['m'] = np.loadtxt('{}EEm_PU_Correction_Factor_Run{}.csv'.format(PUdir, era), delimiter=',')"
   ]
  },
  {
   "cell_type": "markdown",
   "id": "75fd99d6",
   "metadata": {},
   "source": [
    "### ML: Model Class"
   ]
  },
  {
   "cell_type": "code",
   "execution_count": 17,
   "id": "db505586",
   "metadata": {},
   "outputs": [],
   "source": [
    "doPadding = True"
   ]
  },
  {
   "cell_type": "code",
   "execution_count": 18,
   "id": "19bb081a",
   "metadata": {},
   "outputs": [],
   "source": [
    "class ResBlock(nn.Module):\n",
    "    '''\n",
    "    For encoding, define the nominal resnet block\n",
    "    '''\n",
    "    def __init__(self, in_channels, out_channels):\n",
    "        super(ResBlock, self).__init__()\n",
    "        self.downsample = out_channels//in_channels\n",
    "        self.conv1 = nn.Conv2d(in_channels, out_channels, kernel_size=3, stride=self.downsample, padding=1)\n",
    "        self.relu = nn.LeakyReLU(inplace=True)\n",
    "        self.conv2 = nn.Conv2d(out_channels, out_channels, kernel_size=3, padding=1)\n",
    "        self.shortcut = nn.Conv2d(in_channels, out_channels, kernel_size=1, stride=self.downsample)\n",
    "\n",
    "    def forward(self, x):\n",
    "        residual = x\n",
    "\n",
    "        out = self.conv1(x)\n",
    "        out = self.relu(out)\n",
    "        out = self.conv2(out)\n",
    "\n",
    "        if self.downsample > 1:\n",
    "            residual = self.shortcut(x)\n",
    "\n",
    "        out += residual\n",
    "        out = self.relu(out)\n",
    "\n",
    "        return out\n",
    "\n",
    "class ResBlockTranspose(nn.Module):\n",
    "    '''\n",
    "    For decoding, define the transposed resnet block, aka \"de-convolution\"\n",
    "    '''\n",
    "    def __init__(self, in_channels, out_channels, out_shape=None):\n",
    "        super(ResBlockTranspose, self).__init__()\n",
    "        self.upsample = in_channels//out_channels  \n",
    "        self.convT1 = nn.ConvTranspose2d(in_channels, out_channels, kernel_size=3, stride=self.upsample, padding=1)\n",
    "        #self.convT1 = nn.ConvTranspose2d(in_channels, out_channels, kernel_size=3, stride=self.upsample, padding=0)\n",
    "        self.relu = nn.LeakyReLU(inplace=True)\n",
    "        self.convT2 = nn.ConvTranspose2d(out_channels, out_channels, kernel_size=3, padding=1)\n",
    "        #self.convT2 = nn.ConvTranspose2d(out_channels, out_channels, kernel_size=3, padding=0)\n",
    "\n",
    "        self.shortcutT = nn.ConvTranspose2d(in_channels, out_channels, kernel_size=1, stride=self.upsample)\n",
    "        #self.shortcutT = nn.ConvTranspose2d(in_channels, out_channels, kernel_size=1, stride=self.upsample, padding=0)\n",
    "        self.out_shape = out_shape\n",
    "\n",
    "    def forward(self, x):\n",
    "        residual = x\n",
    "        \n",
    "        if self.out_shape is None:\n",
    "            out = self.convT1(x)\n",
    "        else:\n",
    "            out = self.convT1(x, output_size=(x.size()[0], x.size()[1], self.out_shape[0], self.out_shape[1]))\n",
    "        out = self.relu(out)\n",
    "        out = self.convT2(out)\n",
    "\n",
    "        if self.upsample > 1:\n",
    "            if self.out_shape is None:\n",
    "                residual = self.shortcutT(x)\n",
    "            else:\n",
    "                residual = self.shortcutT(x, output_size=(x.size()[0], x.size()[1], self.out_shape[0], self.out_shape[1]))\n",
    "            \n",
    "        out += residual\n",
    "        out = self.relu(out)\n",
    "\n",
    "        return out"
   ]
  },
  {
   "cell_type": "code",
   "execution_count": 19,
   "id": "6df3661b",
   "metadata": {},
   "outputs": [],
   "source": [
    "if doPadding:\n",
    "    layer0_kernel = 3\n",
    "    layer2_shape = 10\n",
    "    final_shape = 22\n",
    "else:\n",
    "    layer0_kernel = 5\n",
    "    layer2_shape = 8\n",
    "    final_shape = 20\n",
    "\n",
    "class ResNetAE(nn.Module):\n",
    "    '''\n",
    "    Define the full ResNet autoencoder model\n",
    "    '''\n",
    "    def __init__(self, in_channels, nblocks, fmaps):\n",
    "        super(ResNetAE, self).__init__()\n",
    "\n",
    "        self.fmaps = fmaps\n",
    "        self.nblocks = nblocks\n",
    "        self.in_channels = in_channels\n",
    "        \n",
    "        # Initialize encoding layers\n",
    "        self.econv0 = nn.Sequential(nn.Conv2d(in_channels, fmaps[0], kernel_size=layer0_kernel, stride=1, padding=(0,0)), nn.LeakyReLU())\n",
    "        self.elayer1 = self.block_layers(self.nblocks, [fmaps[0],fmaps[0]], 'enc')\n",
    "        self.elayer2 = self.block_layers(1, [fmaps[0],fmaps[1]], 'enc')\n",
    "        self.elayer3 = self.block_layers(self.nblocks, [fmaps[1],fmaps[1]], 'enc')\n",
    "        \n",
    "        # Initialize decoding layers\n",
    "        self.fc = nn.Linear(self.fmaps[1], self.fmaps[1]*int(layer2_shape/2)*int(layer2_shape/2))\n",
    "        self.dlayer3 = self.block_layers(self.nblocks, [fmaps[1],fmaps[1]], 'dec', out_shape=None)\n",
    "        self.dlayer2 = self.block_layers(1, [fmaps[1],fmaps[0]], 'dec', out_shape=(layer2_shape, layer2_shape))\n",
    "        self.dlayer1 = self.block_layers(self.nblocks, [fmaps[0],fmaps[0]], 'dec', out_shape=None)\n",
    "        self.dconv0 = nn.ConvTranspose2d(fmaps[0], in_channels, kernel_size=layer0_kernel, stride=1, padding=(0,0))\n",
    "        self.dconv0_relu = nn.LeakyReLU(inplace=True)\n",
    "        \n",
    "        self.debug = False\n",
    "        #self.debug = True\n",
    "\n",
    "    def block_layers(self, nblocks, fmaps, state, out_shape=None):\n",
    "        '''\n",
    "        Convenience function: append several resnet blocks in sequence\n",
    "        '''\n",
    "        layers = []\n",
    "        for _ in range(nblocks):\n",
    "            if state == 'enc':\n",
    "                layers.append(ResBlock(fmaps[0], fmaps[1]))\n",
    "            else:\n",
    "                layers.append(ResBlockTranspose(fmaps[0], fmaps[1], out_shape)) \n",
    "        return nn.Sequential(*layers)\n",
    "\n",
    "    '''\n",
    "    For VAE:\n",
    "    def reparameterize(self, mu, logvar):\n",
    "        std = logvar.mul(0.5).exp_()\n",
    "        # return torch.normal(mu, std)\n",
    "        esp = torch.randn(*mu.size()).cuda()\n",
    "        z = mu + std * esp\n",
    "        return z\n",
    "    '''\n",
    "\n",
    "    def forward(self, x):\n",
    "        \n",
    "        # Encoding\n",
    "        if self.debug: print(x.size(), 'input')\n",
    "        if self.debug: print(\"Encode\")\n",
    "        x = self.econv0(x)\n",
    "        if self.debug: print(x.size(), 'econv0')\n",
    "        x = F.max_pool2d(x, kernel_size=2)\n",
    "        if self.debug: print(x.size(), 'maxpool')\n",
    "\n",
    "        x = self.elayer1(x)\n",
    "        if self.debug: print(x.size(), 'elayer1')\n",
    "        x = self.elayer2(x)\n",
    "        if self.debug: print(x.size(), 'elayer2')\n",
    "        x = self.elayer3(x)\n",
    "        if self.debug: print(x.size(), 'elayer3')\n",
    "        \n",
    "        # Bottleneck comes from GlobalMaxPool\n",
    "        if self.debug: print(\"Bottleneck\")\n",
    "        x = F.max_pool2d(x, kernel_size=x.size()[2:])\n",
    "        if self.debug: print(x.size(), 'GlobalMaxPool')\n",
    "        x = x.view(x.size()[0], -1)\n",
    "        if self.debug: print(x.size(), 'flatten')\n",
    "        \n",
    "        '''\n",
    "        For VAE:\n",
    "        mu, logvar = self.fc_mu(x), self.fc_logvar(x)\n",
    "        z = self.reparameterize(mu, logvar)\n",
    "        '''\n",
    "        \n",
    "        # Expand bottleneck\n",
    "        # Dimensions follow encoding steps in reverse, as much as possible\n",
    "        if self.debug: print(\"Expand bottleneck\")\n",
    "        x = self.fc(x) # expand\n",
    "        if self.debug: print(x.size(), 'FC-upsample')\n",
    "        x = x.view(-1, self.fmaps[1], int(layer2_shape/2), int(layer2_shape/2))\n",
    "        if self.debug: print(x.size(), 'reshape')\n",
    "        \n",
    "        # Decoding\n",
    "        if self.debug: print(\"Decode\")\n",
    "        x = self.dlayer3(x)\n",
    "        if self.debug: print(x.size(), 'dlayer3')\n",
    "        x = self.dlayer2(x)\n",
    "        if self.debug: print(x.size(), 'dlayer2')\n",
    "        x = self.dlayer1(x)\n",
    "        if self.debug: print(x.size(), 'dlayer1')\n",
    "        \n",
    "        x = F.interpolate(x, scale_factor=2)\n",
    "        if self.debug: print(x.size(), \"interp\")\n",
    "        x = self.dconv0(x, output_size=(x.size()[0], self.in_channels, final_shape, final_shape)) \n",
    "        if self.debug: print(x.size(), 'dconv0')\n",
    "        x = self.dconv0_relu(x)\n",
    "            \n",
    "        return x\n",
    "        #return x, mu, logvar"
   ]
  },
  {
   "cell_type": "markdown",
   "id": "37fa8af0",
   "metadata": {},
   "source": [
    "### ML Functions: Evalulate during Validation, Calculate FDR"
   ]
  },
  {
   "cell_type": "code",
   "execution_count": 20,
   "id": "e5403192",
   "metadata": {},
   "outputs": [],
   "source": [
    "# Spatial Correction\n",
    "\n",
    "def do_eval(ae, loader, epoch, doPadding=False, isDead=False, isHot=False, fakeIndices=[], avg_occ=[], fit_run=[]):\n",
    "    loss_ = []\n",
    "\n",
    "    # Average Occupancy Map for Spatial Correction\n",
    "    avg_occ = torch.tensor(avg_occ).to(device)\n",
    "    avg_occ[avg_occ==0] = 1\n",
    "    \n",
    "    #fit[EE] = fit_run[runEra][EE]\n",
    "    \n",
    "    if doPadding:\n",
    "        avg_occ = addPadding(avg_occ)\n",
    "    \n",
    "    for i, data in enumerate(loader):\n",
    "        X, PU = data['EEOccupancyTask_EEOT_digi_occupancy_EE_{}'.format(EE)].to(device), data['PU'].to(device)\n",
    "        \n",
    "        # PU Correction\n",
    "        X = applyPUcorr(X, PU, fit_run).float()\n",
    "        \n",
    "        # Fake anomaly value\n",
    "        if isDead or isHot:\n",
    "            if isDead:\n",
    "                anomValue = 0\n",
    "            elif isHot:\n",
    "                f = 0.2\n",
    "\n",
    "                hotValue = torch.tensor([25*500*f]*batch_size).to(device)\n",
    "                hotValue = torch.unsqueeze(hotValue, 1)\n",
    "\n",
    "                hotValue = applyPUcorr(hotValue, PU, fit_run).float()\n",
    "\n",
    "                hotValue[hotValue > 8.] = 8. # upperbound cutoff\n",
    "\n",
    "                anomValue = hotValue\n",
    "                \n",
    "            fakeIndex = fakeIndices[i]\n",
    "        \n",
    "            # Apply Fake Anomaly\n",
    "            X = applyFakeAnomaly(X, fakeIndex, anomValue)\n",
    "        \n",
    "        # Padding\n",
    "        if doPadding:\n",
    "            X = addPadding(X)\n",
    "        \n",
    "        # Feed to AE\n",
    "        Xreco = ae(X)\n",
    "        \n",
    "        # Calculate loss: Spatial Correction\n",
    "        losses = F.mse_loss(Xreco.float()/avg_occ.float(), X.float()/avg_occ.float(), reduction='none')\n",
    "        \n",
    "        # Time Correction (with Batch Size 3)\n",
    "        losses = losses[0]*losses[1]*losses[2]\n",
    "        losses = torch.unsqueeze(losses, 1)    \n",
    "            \n",
    "        # Process loss maps into good and anom losses\n",
    "        \n",
    "        # Padding\n",
    "        if doPadding:\n",
    "            losses = losses[:,:,1:21,1:21]\n",
    "\n",
    "        # Get losses of anomalous for anomaly validation and of good towers for good validation\n",
    "            if isDead or isHot:\n",
    "                anom_losses = losses[:, :, fakeIndex[0], fakeIndex[1]] # Time Correction: one fake coordinate per batch (batch size of 3)\n",
    "\n",
    "                loss_.append(anom_losses.tolist())\n",
    "\n",
    "            else:\n",
    "                validTowers = torch.tensor(validIndex[EE])\n",
    "                good_losses = losses[:, :, validTowers[:,0], validTowers[:,1]]\n",
    "                \n",
    "                loss_.append(good_losses.tolist())\n",
    "                \n",
    "                if EE == 'p':\n",
    "                    FP = good_losses[good_losses > 0.1069]\n",
    "                    #FP = good_losses[good_losses > 0.1065]\n",
    "                else:\n",
    "                    FP = good_losses[good_losses > 0.1464]\n",
    "\n",
    "                if FP.size() != torch.Size([0]):\n",
    "                    if EE == 'p':\n",
    "                        FP_index = torch.nonzero(good_losses > 0.1069)\n",
    "                        #FP_index = torch.nonzero(good_losses > 0.1065)\n",
    "                    else:\n",
    "                        FP_index = torch.nonzero(good_losses > 0.1464)\n",
    "\n",
    "                    for i in range(FP_index.shape[0]):\n",
    "                        FP_indices.append([validTowers[FP_index[i][2], 0].cpu().item(), validTowers[FP_index[i][2], 1].cpu().item()])\n",
    "\n",
    "               \n",
    "    # Append losses to list\n",
    "    if isDead:\n",
    "        loss_ = np.concatenate(loss_)\n",
    "        val_dead_loss.append(loss_)\n",
    "        print('\\nEpoch {} > Dead Val loss: {:.4f}'.format(epoch, loss_.mean()))\n",
    "    elif isHot:\n",
    "        loss_ = np.concatenate(loss_)\n",
    "        val_hot_loss.append(loss_)\n",
    "        print('\\nEpoch {} > Hot (f={}) Val loss: {:.4f}'.format(epoch, f, loss_.mean()))\n",
    "    else:\n",
    "        loss_ = np.concatenate(loss_)\n",
    "        val_good_loss.append(loss_)\n",
    "        print('\\nEpoch {} > Good Val loss: {:.4f}'.format(epoch, loss_.mean()))\n",
    "    \n",
    "    return loss_"
   ]
  },
  {
   "cell_type": "code",
   "execution_count": 21,
   "id": "d3de5fab",
   "metadata": {},
   "outputs": [],
   "source": [
    "def get_roc(loss_maps, loss_map_anoms):\n",
    "    anom_map=loss_map_anoms\n",
    "    norm_map=loss_maps\n",
    "   \n",
    "    #anom_thres=np.percentile(anom_map,1)\n",
    "    if EE == 'p':\n",
    "        anom_thres = 0.1069\n",
    "        #anom_thres = 0.1065\n",
    "    elif EE == 'm':\n",
    "        anom_thres = 0.1464\n",
    "    \n",
    "    print('Anomaly threshold = %.4f'%(anom_thres))\n",
    "    \n",
    "    FP = len(norm_map[norm_map > anom_thres])\n",
    "    TP = len(anom_map[anom_map > anom_thres])\n",
    "    \n",
    "    FN = len(anom_map[anom_map < anom_thres])\n",
    "    TN = len(norm_map[norm_map < anom_thres])\n",
    "    \n",
    "    FNR = FN/(FN+TP)\n",
    "    FPR = FP/(FP+TN)\n",
    "    \n",
    "    TPR = TP/(TP+FN)\n",
    "    TNR = TN/(TN+FP)\n",
    "    \n",
    "    FDR = FP/(FP+TP)\n",
    "    \n",
    "    #print('TPR = {:.4f}'.format(TPR))\n",
    "    \n",
    "    print('FDR = {:.4f}'.format(FDR))\n",
    "    \n",
    "    return FDR, anom_thres"
   ]
  },
  {
   "cell_type": "markdown",
   "id": "4709604d",
   "metadata": {},
   "source": [
    "### Validation for each Run Era: 2018 RunA to RunD"
   ]
  },
  {
   "cell_type": "code",
   "execution_count": 22,
   "id": "3c7cd958",
   "metadata": {},
   "outputs": [],
   "source": [
    "EE = 'm'\n",
    "modelDir = './MODELS/EE{}/'.format(EE)\n",
    "\n",
    "# Best epoch from spatial correction validation\n",
    "if EE == 'p':\n",
    "    epoch = 32\n",
    "    #epoch = 30\n",
    "elif EE == 'm':\n",
    "    epoch = 33"
   ]
  },
  {
   "cell_type": "markdown",
   "id": "3748d0b1",
   "metadata": {},
   "source": [
    "### RunA"
   ]
  },
  {
   "cell_type": "code",
   "execution_count": 23,
   "id": "58dc863a",
   "metadata": {},
   "outputs": [],
   "source": [
    "runEra = 'A'\n",
    "fakeIndices = generateFakeAnomCoord(validIndex[EE], nCoord = batch_size*len(val_loader_run[runEra]))"
   ]
  },
  {
   "cell_type": "code",
   "execution_count": 24,
   "id": "f452e9e9",
   "metadata": {},
   "outputs": [
    {
     "name": "stdout",
     "output_type": "stream",
     "text": [
      "\n",
      ">> Validation (Time Correction): Good samples <<<<<<<<\n",
      "\n",
      "Epoch 33 > Good Val loss: 0.0001\n",
      "\n",
      ">> Validation (Time Correction): Dead Tower samples <<<<<<<<\n",
      "\n",
      "Epoch 33 > Dead Val loss: 0.7310\n",
      "Anomaly threshold = 0.1464\n",
      "FDR = 0.0199\n",
      "\n",
      ">> Validation (Time Correction): Hot Tower samples <<<<<<<<\n",
      "\n",
      "Epoch 33 > Hot (f=0.2) Val loss: 3679612.2419\n",
      "Anomaly threshold = 0.1464\n",
      "FDR = 0.0197\n",
      "\n",
      "FDR\n",
      "{'dead': [0.019852448021462105], 'hot': [0.019726757747417528]}\n",
      "\n",
      "Anomaly Threshold\n",
      "{'dead': [0.1464], 'hot': [0.1464]}\n"
     ]
    }
   ],
   "source": [
    "val_good_loss, val_dead_loss, val_hot_loss = [], [], []\n",
    "\n",
    "FDRs = {'dead': [], 'hot': []}\n",
    "all_anom_thres = {'dead': [], 'hot': []}\n",
    "\n",
    "FP_indices = []\n",
    "\n",
    "# Run Validation\n",
    "model = torch.load('{}ae_epoch{}.pth'.format(modelDir, epoch))\n",
    "model.eval()\n",
    "print(\"\\n>> Validation (Time Correction): Good samples <<<<<<<<\")\n",
    "good_losses = do_eval(model, val_loader_run[runEra], epoch, doPadding=doPadding, isDead=False, isHot=False, avg_occ=avg_occupancy_run[runEra][EE], fit_run=fit_run[runEra][EE])\n",
    "\n",
    "# Calculate FDR for Dead tower \n",
    "print(\"\\n>> Validation (Time Correction): Dead Tower samples <<<<<<<<\")\n",
    "dead_losses = do_eval(model, val_loader_run[runEra], epoch, doPadding=doPadding, isDead=True, isHot=False, fakeIndices=fakeIndices, avg_occ=avg_occupancy_run[runEra][EE], fit_run=fit_run[runEra][EE])\n",
    "\n",
    "FDR, anom_thres = get_roc(good_losses, dead_losses)\n",
    "FDRs['dead'].append(FDR)\n",
    "all_anom_thres['dead'].append(anom_thres)\n",
    "\n",
    "# Calculate FDR for Hot tower \n",
    "print(\"\\n>> Validation (Time Correction): Hot Tower samples <<<<<<<<\")\n",
    "hot_losses = do_eval(model, val_loader_run[runEra], epoch, doPadding=doPadding, isDead=False, isHot=True, fakeIndices=fakeIndices, avg_occ=avg_occupancy_run[runEra][EE], fit_run=fit_run[runEra][EE])\n",
    "\n",
    "FDR, anom_thres = get_roc(good_losses, hot_losses)\n",
    "FDRs['hot'].append(FDR)\n",
    "all_anom_thres['hot'].append(anom_thres)\n",
    "\n",
    "print('\\nFDR')\n",
    "print(FDRs)\n",
    "print('\\nAnomaly Threshold')\n",
    "print(all_anom_thres)"
   ]
  },
  {
   "cell_type": "code",
   "execution_count": 25,
   "id": "0d14b30f",
   "metadata": {},
   "outputs": [
    {
     "data": {
      "image/png": "[encoded data removed]",
      "text/plain": [
       "<Figure size 432x288 with 2 Axes>"
      ]
     },
     "metadata": {
      "needs_background": "light"
     },
     "output_type": "display_data"
    }
   ],
   "source": [
    "false_pos = np.zeros((20,20))\n",
    "\n",
    "for index in FP_indices:\n",
    "    false_pos[index[0]][index[1]] += 1\n",
    "    \n",
    "false_pos /= (len(val_loader_run[runEra])*batch_size)\n",
    "    \n",
    "plot_2D(false_pos, title='Run{} (EE+) Good Towers above Thres.'.format(runEra), label = 'LS / (Total LS Analyzed)', doLog=True)"
   ]
  },
  {
   "cell_type": "code",
   "execution_count": null,
   "id": "0189e54e",
   "metadata": {},
   "outputs": [],
   "source": []
  },
  {
   "cell_type": "markdown",
   "id": "13cb12c4",
   "metadata": {},
   "source": [
    "### RunB"
   ]
  },
  {
   "cell_type": "code",
   "execution_count": 26,
   "id": "987160f9",
   "metadata": {},
   "outputs": [],
   "source": [
    "runEra = 'B'\n",
    "fakeIndices = generateFakeAnomCoord(validIndex[EE], nCoord = batch_size*len(val_loader_run[runEra]))"
   ]
  },
  {
   "cell_type": "code",
   "execution_count": 27,
   "id": "56cec8b6",
   "metadata": {},
   "outputs": [
    {
     "name": "stdout",
     "output_type": "stream",
     "text": [
      "\n",
      ">> Validation (Time Correction): Good samples <<<<<<<<\n",
      "\n",
      "Epoch 33 > Good Val loss: 0.0000\n",
      "\n",
      ">> Validation (Time Correction): Dead Tower samples <<<<<<<<\n",
      "Already dead Already dead Already dead \n",
      "\n",
      "Epoch 33 > Dead Val loss: 0.7126\n",
      "Anomaly threshold = 0.1464\n",
      "FDR = 0.0129\n",
      "\n",
      ">> Validation (Time Correction): Hot Tower samples <<<<<<<<\n",
      "Already dead Already dead Already dead \n",
      "\n",
      "Epoch 33 > Hot (f=0.2) Val loss: 3279252.0054\n",
      "Anomaly threshold = 0.1464\n",
      "FDR = 0.0128\n",
      "\n",
      "FDR\n",
      "{'dead': [0.012870159453302962], 'hot': [0.012798731453165704]}\n",
      "\n",
      "Anomaly Threshold\n",
      "{'dead': [0.1464], 'hot': [0.1464]}\n"
     ]
    }
   ],
   "source": [
    "val_good_loss, val_dead_loss, val_hot_loss = [], [], []\n",
    "\n",
    "FDRs = {'dead': [], 'hot': []}\n",
    "all_anom_thres = {'dead': [], 'hot': []}\n",
    "\n",
    "FP_indices = []\n",
    "\n",
    "# Run Validation\n",
    "model = torch.load('{}ae_epoch{}.pth'.format(modelDir, epoch))\n",
    "model.eval()\n",
    "print(\"\\n>> Validation (Time Correction): Good samples <<<<<<<<\")\n",
    "good_losses = do_eval(model, val_loader_run[runEra], epoch, doPadding=doPadding, isDead=False, isHot=False, avg_occ=avg_occupancy_run[runEra][EE], fit_run=fit_run[runEra][EE])\n",
    "\n",
    "# Calculate FDR for Dead tower \n",
    "print(\"\\n>> Validation (Time Correction): Dead Tower samples <<<<<<<<\")\n",
    "dead_losses = do_eval(model, val_loader_run[runEra], epoch, doPadding=doPadding, isDead=True, isHot=False, fakeIndices=fakeIndices, avg_occ=avg_occupancy_run[runEra][EE], fit_run=fit_run[runEra][EE])\n",
    "\n",
    "FDR, anom_thres = get_roc(good_losses, dead_losses)\n",
    "FDRs['dead'].append(FDR)\n",
    "all_anom_thres['dead'].append(anom_thres)\n",
    "\n",
    "# Calculate FDR for Hot tower \n",
    "print(\"\\n>> Validation (Time Correction): Hot Tower samples <<<<<<<<\")\n",
    "hot_losses = do_eval(model, val_loader_run[runEra], epoch, doPadding=doPadding, isDead=False, isHot=True, fakeIndices=fakeIndices, avg_occ=avg_occupancy_run[runEra][EE], fit_run=fit_run[runEra][EE])\n",
    "\n",
    "FDR, anom_thres = get_roc(good_losses, hot_losses)\n",
    "FDRs['hot'].append(FDR)\n",
    "all_anom_thres['hot'].append(anom_thres)\n",
    "\n",
    "print('\\nFDR')\n",
    "print(FDRs)\n",
    "print('\\nAnomaly Threshold')\n",
    "print(all_anom_thres)"
   ]
  },
  {
   "cell_type": "code",
   "execution_count": 28,
   "id": "1dcc88b3",
   "metadata": {},
   "outputs": [
    {
     "data": {
      "image/png": "[encoded data removed]",
      "text/plain": [
       "<Figure size 432x288 with 2 Axes>"
      ]
     },
     "metadata": {
      "needs_background": "light"
     },
     "output_type": "display_data"
    }
   ],
   "source": [
    "false_pos = np.zeros((20,20))\n",
    "\n",
    "for index in FP_indices:\n",
    "    false_pos[index[0]][index[1]] += 1\n",
    "    \n",
    "false_pos /= (len(val_loader_run[runEra])*batch_size)\n",
    "    \n",
    "plot_2D(false_pos, title='Run{} (EE+) Good Towers above Thres.'.format(runEra), label = 'LS / (Total LS Analyzed)', doLog=True)"
   ]
  },
  {
   "cell_type": "code",
   "execution_count": null,
   "id": "752f0689",
   "metadata": {},
   "outputs": [],
   "source": []
  },
  {
   "cell_type": "markdown",
   "id": "9d29bf75",
   "metadata": {},
   "source": [
    "### RunC"
   ]
  },
  {
   "cell_type": "code",
   "execution_count": 29,
   "id": "ce9d2777",
   "metadata": {},
   "outputs": [],
   "source": [
    "runEra = 'C'\n",
    "fakeIndices = generateFakeAnomCoord(validIndex[EE], nCoord = batch_size*len(val_loader_run[runEra]))"
   ]
  },
  {
   "cell_type": "code",
   "execution_count": 30,
   "id": "376442f6",
   "metadata": {},
   "outputs": [
    {
     "name": "stdout",
     "output_type": "stream",
     "text": [
      "\n",
      ">> Validation (Time Correction): Good samples <<<<<<<<\n",
      "\n",
      "Epoch 33 > Good Val loss: 0.0003\n",
      "\n",
      ">> Validation (Time Correction): Dead Tower samples <<<<<<<<\n",
      "Already dead Already dead Already dead \n",
      "Already dead Already dead Already dead \n",
      "Already dead Already dead Already dead \n",
      "Already dead Already dead Already dead \n",
      "Already dead Already dead Already dead \n",
      "\n",
      "Epoch 33 > Dead Val loss: 0.7070\n",
      "Anomaly threshold = 0.1464\n",
      "FDR = 0.0892\n",
      "\n",
      ">> Validation (Time Correction): Hot Tower samples <<<<<<<<\n",
      "Already dead Already dead Already dead \n",
      "Already dead Already dead Already dead \n",
      "Already dead Already dead Already dead \n",
      "Already dead Already dead Already dead \n",
      "Already dead Already dead Already dead \n",
      "\n",
      "Epoch 33 > Hot (f=0.2) Val loss: 3395356.9445\n",
      "Anomaly threshold = 0.1464\n",
      "FDR = 0.0889\n",
      "\n",
      "FDR\n",
      "{'dead': [0.08922753547031004], 'hot': [0.0888819095477387]}\n",
      "\n",
      "Anomaly Threshold\n",
      "{'dead': [0.1464], 'hot': [0.1464]}\n"
     ]
    }
   ],
   "source": [
    "val_good_loss, val_dead_loss, val_hot_loss = [], [], []\n",
    "\n",
    "FDRs = {'dead': [], 'hot': []}\n",
    "all_anom_thres = {'dead': [], 'hot': []}\n",
    "\n",
    "FP_indices = []\n",
    "\n",
    "# Run Validation\n",
    "model = torch.load('{}ae_epoch{}.pth'.format(modelDir, epoch))\n",
    "model.eval()\n",
    "print(\"\\n>> Validation (Time Correction): Good samples <<<<<<<<\")\n",
    "good_losses = do_eval(model, val_loader_run[runEra], epoch, doPadding=doPadding, isDead=False, isHot=False, avg_occ=avg_occupancy_run[runEra][EE], fit_run=fit_run[runEra][EE])\n",
    "\n",
    "# Calculate FDR for Dead tower \n",
    "print(\"\\n>> Validation (Time Correction): Dead Tower samples <<<<<<<<\")\n",
    "dead_losses = do_eval(model, val_loader_run[runEra], epoch, doPadding=doPadding, isDead=True, isHot=False, fakeIndices=fakeIndices, avg_occ=avg_occupancy_run[runEra][EE], fit_run=fit_run[runEra][EE])\n",
    "\n",
    "FDR, anom_thres = get_roc(good_losses, dead_losses)\n",
    "FDRs['dead'].append(FDR)\n",
    "all_anom_thres['dead'].append(anom_thres)\n",
    "\n",
    "# Calculate FDR for Hot tower \n",
    "print(\"\\n>> Validation (Time Correction): Hot Tower samples <<<<<<<<\")\n",
    "hot_losses = do_eval(model, val_loader_run[runEra], epoch, doPadding=doPadding, isDead=False, isHot=True, fakeIndices=fakeIndices, avg_occ=avg_occupancy_run[runEra][EE], fit_run=fit_run[runEra][EE])\n",
    "\n",
    "FDR, anom_thres = get_roc(good_losses, hot_losses)\n",
    "FDRs['hot'].append(FDR)\n",
    "all_anom_thres['hot'].append(anom_thres)\n",
    "\n",
    "print('\\nFDR')\n",
    "print(FDRs)\n",
    "print('\\nAnomaly Threshold')\n",
    "print(all_anom_thres)"
   ]
  },
  {
   "cell_type": "code",
   "execution_count": 31,
   "id": "af07c7fd",
   "metadata": {},
   "outputs": [
    {
     "data": {
      "image/png": "[encoded data removed]",
      "text/plain": [
       "<Figure size 432x288 with 2 Axes>"
      ]
     },
     "metadata": {
      "needs_background": "light"
     },
     "output_type": "display_data"
    }
   ],
   "source": [
    "false_pos = np.zeros((20,20))\n",
    "\n",
    "for index in FP_indices:\n",
    "    false_pos[index[0]][index[1]] += 1\n",
    "    \n",
    "false_pos /= (len(val_loader_run[runEra])*batch_size)\n",
    "    \n",
    "plot_2D(false_pos, title='Run{} (EE+) Good Towers above Thres.'.format(runEra), label = 'LS / (Total LS Analyzed)', doLog=True)"
   ]
  },
  {
   "cell_type": "code",
   "execution_count": null,
   "id": "162ec4b2",
   "metadata": {},
   "outputs": [],
   "source": []
  },
  {
   "cell_type": "markdown",
   "id": "fb38fa75",
   "metadata": {},
   "source": [
    "### RunD"
   ]
  },
  {
   "cell_type": "code",
   "execution_count": 32,
   "id": "f7c21d7f",
   "metadata": {},
   "outputs": [],
   "source": [
    "runEra = 'D'\n",
    "fakeIndices = generateFakeAnomCoord(validIndex[EE], nCoord = batch_size*len(val_loader_run[runEra]))"
   ]
  },
  {
   "cell_type": "code",
   "execution_count": 33,
   "id": "64c2146c",
   "metadata": {},
   "outputs": [
    {
     "name": "stdout",
     "output_type": "stream",
     "text": [
      "\n",
      ">> Validation (Time Correction): Good samples <<<<<<<<\n",
      "\n",
      "Epoch 33 > Good Val loss: 0.0001\n",
      "\n",
      ">> Validation (Time Correction): Dead Tower samples <<<<<<<<\n",
      "\n",
      "Epoch 33 > Dead Val loss: 0.7888\n",
      "Anomaly threshold = 0.1464\n",
      "FDR = 0.0234\n",
      "\n",
      ">> Validation (Time Correction): Hot Tower samples <<<<<<<<\n",
      "\n",
      "Epoch 33 > Hot (f=0.2) Val loss: 4154466.1763\n",
      "Anomaly threshold = 0.1464\n",
      "FDR = 0.0231\n",
      "\n",
      "FDR\n",
      "{'dead': [0.02342606149341142], 'hot': [0.023110255175734232]}\n",
      "\n",
      "Anomaly Threshold\n",
      "{'dead': [0.1464], 'hot': [0.1464]}\n"
     ]
    }
   ],
   "source": [
    "val_good_loss, val_dead_loss, val_hot_loss = [], [], []\n",
    "\n",
    "FDRs = {'dead': [], 'hot': []}\n",
    "all_anom_thres = {'dead': [], 'hot': []}\n",
    "\n",
    "FP_indices = []\n",
    "\n",
    "# Run Validation\n",
    "model = torch.load('{}ae_epoch{}.pth'.format(modelDir, epoch))\n",
    "model.eval()\n",
    "print(\"\\n>> Validation (Time Correction): Good samples <<<<<<<<\")\n",
    "good_losses = do_eval(model, val_loader_run[runEra], epoch, doPadding=doPadding, isDead=False, isHot=False, avg_occ=avg_occupancy_run[runEra][EE], fit_run=fit_run[runEra][EE])\n",
    "\n",
    "# Calculate FDR for Dead tower \n",
    "print(\"\\n>> Validation (Time Correction): Dead Tower samples <<<<<<<<\")\n",
    "dead_losses = do_eval(model, val_loader_run[runEra], epoch, doPadding=doPadding, isDead=True, isHot=False, fakeIndices=fakeIndices, avg_occ=avg_occupancy_run[runEra][EE], fit_run=fit_run[runEra][EE])\n",
    "\n",
    "FDR, anom_thres = get_roc(good_losses, dead_losses)\n",
    "FDRs['dead'].append(FDR)\n",
    "all_anom_thres['dead'].append(anom_thres)\n",
    "\n",
    "# Calculate FDR for Hot tower \n",
    "print(\"\\n>> Validation (Time Correction): Hot Tower samples <<<<<<<<\")\n",
    "hot_losses = do_eval(model, val_loader_run[runEra], epoch, doPadding=doPadding, isDead=False, isHot=True, fakeIndices=fakeIndices, avg_occ=avg_occupancy_run[runEra][EE], fit_run=fit_run[runEra][EE])\n",
    "\n",
    "FDR, anom_thres = get_roc(good_losses, hot_losses)\n",
    "FDRs['hot'].append(FDR)\n",
    "all_anom_thres['hot'].append(anom_thres)\n",
    "\n",
    "print('\\nFDR')\n",
    "print(FDRs)\n",
    "print('\\nAnomaly Threshold')\n",
    "print(all_anom_thres)"
   ]
  },
  {
   "cell_type": "code",
   "execution_count": 34,
   "id": "fb6553e9",
   "metadata": {},
   "outputs": [
    {
     "data": {
      "image/png": "[encoded data removed]",
      "text/plain": [
       "<Figure size 432x288 with 2 Axes>"
      ]
     },
     "metadata": {
      "needs_background": "light"
     },
     "output_type": "display_data"
    }
   ],
   "source": [
    "false_pos = np.zeros((20,20))\n",
    "\n",
    "for index in FP_indices:\n",
    "    false_pos[index[0]][index[1]] += 1\n",
    "    \n",
    "false_pos /= (len(val_loader_run[runEra])*batch_size)\n",
    "    \n",
    "plot_2D(false_pos, title='Run{} (EE+) Good Towers above Thres.'.format(runEra), label = 'LS / (Total LS Analyzed)', doLog=True)"
   ]
  },
  {
   "cell_type": "code",
   "execution_count": null,
   "id": "7f13580f",
   "metadata": {},
   "outputs": [],
   "source": []
  },
  {
   "cell_type": "markdown",
   "id": "e5c1ded1",
   "metadata": {},
   "source": [
    "## Spatial Correction Scheme #2: Using Previous Era's Average Occupancy"
   ]
  },
  {
   "cell_type": "code",
   "execution_count": null,
   "id": "dd0b0a5c",
   "metadata": {},
   "outputs": [],
   "source": []
  },
  {
   "cell_type": "markdown",
   "id": "c94847cc",
   "metadata": {},
   "source": [
    "### RunB"
   ]
  },
  {
   "cell_type": "code",
   "execution_count": 35,
   "id": "4460ac1f",
   "metadata": {},
   "outputs": [],
   "source": [
    "runEra = 'B'\n",
    "fakeIndices = generateFakeAnomCoord(validIndex[EE], nCoord = batch_size*len(val_loader_run[runEra]))"
   ]
  },
  {
   "cell_type": "code",
   "execution_count": 36,
   "id": "e4e1e1d1",
   "metadata": {},
   "outputs": [
    {
     "name": "stdout",
     "output_type": "stream",
     "text": [
      "\n",
      ">> Validation (Time Correction): Good samples <<<<<<<<\n",
      "\n",
      "Epoch 33 > Good Val loss: 0.0000\n",
      "\n",
      ">> Validation (Time Correction): Dead Tower samples <<<<<<<<\n",
      "Already dead Already dead Already dead \n",
      "\n",
      "Epoch 33 > Dead Val loss: 0.7677\n",
      "Anomaly threshold = 0.1464\n",
      "FDR = 0.0129\n",
      "\n",
      ">> Validation (Time Correction): Hot Tower samples <<<<<<<<\n",
      "Already dead Already dead Already dead \n",
      "\n",
      "Epoch 33 > Hot (f=0.2) Val loss: 4147617.1374\n",
      "Anomaly threshold = 0.1464\n",
      "FDR = 0.0128\n",
      "\n",
      "FDR\n",
      "{'dead': [0.0128628343767786], 'hot': [0.012798731453165704]}\n",
      "\n",
      "Anomaly Threshold\n",
      "{'dead': [0.1464], 'hot': [0.1464]}\n"
     ]
    }
   ],
   "source": [
    "val_good_loss, val_dead_loss, val_hot_loss = [], [], []\n",
    "\n",
    "FDRs = {'dead': [], 'hot': []}\n",
    "all_anom_thres = {'dead': [], 'hot': []}\n",
    "\n",
    "FP_indices = []\n",
    "\n",
    "# Run Validation\n",
    "model = torch.load('{}ae_epoch{}.pth'.format(modelDir, epoch))\n",
    "model.eval()\n",
    "print(\"\\n>> Validation (Time Correction): Good samples <<<<<<<<\")\n",
    "good_losses = do_eval(model, val_loader_run[runEra], epoch, doPadding=doPadding, isDead=False, isHot=False, avg_occ=avg_occupancy_run['A'][EE], fit_run=fit_run[runEra][EE])\n",
    "\n",
    "# Calculate FDR for Dead tower \n",
    "print(\"\\n>> Validation (Time Correction): Dead Tower samples <<<<<<<<\")\n",
    "dead_losses = do_eval(model, val_loader_run[runEra], epoch, doPadding=doPadding, isDead=True, isHot=False, fakeIndices=fakeIndices, avg_occ=avg_occupancy_run['A'][EE], fit_run=fit_run[runEra][EE])\n",
    "\n",
    "FDR, anom_thres = get_roc(good_losses, dead_losses)\n",
    "FDRs['dead'].append(FDR)\n",
    "all_anom_thres['dead'].append(anom_thres)\n",
    "\n",
    "# Calculate FDR for Hot tower \n",
    "print(\"\\n>> Validation (Time Correction): Hot Tower samples <<<<<<<<\")\n",
    "hot_losses = do_eval(model, val_loader_run[runEra], epoch, doPadding=doPadding, isDead=False, isHot=True, fakeIndices=fakeIndices, avg_occ=avg_occupancy_run['A'][EE], fit_run=fit_run[runEra][EE])\n",
    "\n",
    "FDR, anom_thres = get_roc(good_losses, hot_losses)\n",
    "FDRs['hot'].append(FDR)\n",
    "all_anom_thres['hot'].append(anom_thres)\n",
    "\n",
    "print('\\nFDR')\n",
    "print(FDRs)\n",
    "print('\\nAnomaly Threshold')\n",
    "print(all_anom_thres)"
   ]
  },
  {
   "cell_type": "code",
   "execution_count": 37,
   "id": "d76f4c09",
   "metadata": {},
   "outputs": [
    {
     "data": {
      "image/png": "[encoded data removed]",
      "text/plain": [
       "<Figure size 432x288 with 2 Axes>"
      ]
     },
     "metadata": {
      "needs_background": "light"
     },
     "output_type": "display_data"
    }
   ],
   "source": [
    "false_pos = np.zeros((20,20))\n",
    "\n",
    "for index in FP_indices:\n",
    "    false_pos[index[0]][index[1]] += 1\n",
    "    \n",
    "false_pos /= (len(val_loader_run[runEra])*batch_size)\n",
    "    \n",
    "plot_2D(false_pos, title='Run{} (EE+) Good Towers above Thres.'.format(runEra), label = 'LS / (Total LS Analyzed)', doLog=True)"
   ]
  },
  {
   "cell_type": "code",
   "execution_count": null,
   "id": "f29287db",
   "metadata": {},
   "outputs": [],
   "source": []
  },
  {
   "cell_type": "markdown",
   "id": "ece2fc5f",
   "metadata": {},
   "source": [
    "### RunC"
   ]
  },
  {
   "cell_type": "code",
   "execution_count": 38,
   "id": "23e197b2",
   "metadata": {},
   "outputs": [],
   "source": [
    "runEra = 'C'\n",
    "fakeIndices = generateFakeAnomCoord(validIndex[EE], nCoord = batch_size*len(val_loader_run[runEra]))"
   ]
  },
  {
   "cell_type": "code",
   "execution_count": 39,
   "id": "d20f8cdd",
   "metadata": {},
   "outputs": [
    {
     "name": "stdout",
     "output_type": "stream",
     "text": [
      "\n",
      ">> Validation (Time Correction): Good samples <<<<<<<<\n",
      "\n",
      "Epoch 33 > Good Val loss: 0.0002\n",
      "\n",
      ">> Validation (Time Correction): Dead Tower samples <<<<<<<<\n",
      "Already dead Already dead Already dead \n",
      "Already dead Already dead Already dead \n",
      "Already dead Already dead Already dead \n",
      "Already dead Already dead Already dead \n",
      "Already dead Already dead Already dead \n",
      "\n",
      "Epoch 33 > Dead Val loss: 0.8657\n",
      "Anomaly threshold = 0.1464\n",
      "FDR = 0.0882\n",
      "\n",
      ">> Validation (Time Correction): Hot Tower samples <<<<<<<<\n",
      "Already dead Already dead Already dead \n",
      "Already dead Already dead Already dead \n",
      "Already dead Already dead Already dead \n",
      "Already dead Already dead Already dead \n",
      "Already dead Already dead Already dead \n",
      "\n",
      "Epoch 33 > Hot (f=0.2) Val loss: 3136044.4519\n",
      "Anomaly threshold = 0.1464\n",
      "FDR = 0.0868\n",
      "\n",
      "FDR\n",
      "{'dead': [0.08822274375933432], 'hot': [0.08677859391395593]}\n",
      "\n",
      "Anomaly Threshold\n",
      "{'dead': [0.1464], 'hot': [0.1464]}\n"
     ]
    }
   ],
   "source": [
    "val_good_loss, val_dead_loss, val_hot_loss = [], [], []\n",
    "\n",
    "FDRs = {'dead': [], 'hot': []}\n",
    "all_anom_thres = {'dead': [], 'hot': []}\n",
    "\n",
    "FP_indices = []\n",
    "\n",
    "# Run Validation\n",
    "model = torch.load('{}ae_epoch{}.pth'.format(modelDir, epoch))\n",
    "model.eval()\n",
    "print(\"\\n>> Validation (Time Correction): Good samples <<<<<<<<\")\n",
    "good_losses = do_eval(model, val_loader_run[runEra], epoch, doPadding=doPadding, isDead=False, isHot=False, avg_occ=avg_occupancy_run['B'][EE], fit_run=fit_run[runEra][EE])\n",
    "\n",
    "# Calculate FDR for Dead tower \n",
    "print(\"\\n>> Validation (Time Correction): Dead Tower samples <<<<<<<<\")\n",
    "dead_losses = do_eval(model, val_loader_run[runEra], epoch, doPadding=doPadding, isDead=True, isHot=False, fakeIndices=fakeIndices, avg_occ=avg_occupancy_run['B'][EE], fit_run=fit_run[runEra][EE])\n",
    "\n",
    "FDR, anom_thres = get_roc(good_losses, dead_losses)\n",
    "FDRs['dead'].append(FDR)\n",
    "all_anom_thres['dead'].append(anom_thres)\n",
    "\n",
    "# Calculate FDR for Hot tower \n",
    "print(\"\\n>> Validation (Time Correction): Hot Tower samples <<<<<<<<\")\n",
    "hot_losses = do_eval(model, val_loader_run[runEra], epoch, doPadding=doPadding, isDead=False, isHot=True, fakeIndices=fakeIndices, avg_occ=avg_occupancy_run['B'][EE], fit_run=fit_run[runEra][EE])\n",
    "\n",
    "FDR, anom_thres = get_roc(good_losses, hot_losses)\n",
    "FDRs['hot'].append(FDR)\n",
    "all_anom_thres['hot'].append(anom_thres)\n",
    "\n",
    "print('\\nFDR')\n",
    "print(FDRs)\n",
    "print('\\nAnomaly Threshold')\n",
    "print(all_anom_thres)"
   ]
  },
  {
   "cell_type": "code",
   "execution_count": 40,
   "id": "f2f6846e",
   "metadata": {},
   "outputs": [
    {
     "data": {
      "image/png": "[encoded data removed]",
      "text/plain": [
       "<Figure size 432x288 with 2 Axes>"
      ]
     },
     "metadata": {
      "needs_background": "light"
     },
     "output_type": "display_data"
    }
   ],
   "source": [
    "false_pos = np.zeros((20,20))\n",
    "\n",
    "for index in FP_indices:\n",
    "    false_pos[index[0]][index[1]] += 1\n",
    "    \n",
    "false_pos /= (len(val_loader_run[runEra])*batch_size)\n",
    "    \n",
    "plot_2D(false_pos, title='Run{} (EE+) Good Towers above Thres.'.format(runEra), label = 'LS / (Total LS Analyzed)', doLog=True)"
   ]
  },
  {
   "cell_type": "code",
   "execution_count": null,
   "id": "404c2267",
   "metadata": {},
   "outputs": [],
   "source": []
  },
  {
   "cell_type": "markdown",
   "id": "333c3533",
   "metadata": {},
   "source": [
    "### RunD"
   ]
  },
  {
   "cell_type": "code",
   "execution_count": 41,
   "id": "7be7a39f",
   "metadata": {},
   "outputs": [],
   "source": [
    "runEra = 'D'\n",
    "fakeIndices = generateFakeAnomCoord(validIndex[EE], nCoord = batch_size*len(val_loader_run[runEra]))"
   ]
  },
  {
   "cell_type": "code",
   "execution_count": 42,
   "id": "dd8a3bb8",
   "metadata": {},
   "outputs": [
    {
     "name": "stdout",
     "output_type": "stream",
     "text": [
      "\n",
      ">> Validation (Time Correction): Good samples <<<<<<<<\n",
      "\n",
      "Epoch 33 > Good Val loss: 0.0001\n",
      "\n",
      ">> Validation (Time Correction): Dead Tower samples <<<<<<<<\n",
      "\n",
      "Epoch 33 > Dead Val loss: 0.7911\n",
      "Anomaly threshold = 0.1464\n",
      "FDR = 0.0239\n",
      "\n",
      ">> Validation (Time Correction): Hot Tower samples <<<<<<<<\n",
      "\n",
      "Epoch 33 > Hot (f=0.2) Val loss: 4395521.2021\n",
      "Anomaly threshold = 0.1464\n",
      "FDR = 0.0236\n",
      "\n",
      "FDR\n",
      "{'dead': [0.023867510959571358], 'hot': [0.02358036573628489]}\n",
      "\n",
      "Anomaly Threshold\n",
      "{'dead': [0.1464], 'hot': [0.1464]}\n"
     ]
    }
   ],
   "source": [
    "val_good_loss, val_dead_loss, val_hot_loss = [], [], []\n",
    "\n",
    "FDRs = {'dead': [], 'hot': []}\n",
    "all_anom_thres = {'dead': [], 'hot': []}\n",
    "\n",
    "FP_indices = []\n",
    "\n",
    "# Run Validation\n",
    "model = torch.load('{}ae_epoch{}.pth'.format(modelDir, epoch))\n",
    "model.eval()\n",
    "print(\"\\n>> Validation (Time Correction): Good samples <<<<<<<<\")\n",
    "good_losses = do_eval(model, val_loader_run[runEra], epoch, doPadding=doPadding, isDead=False, isHot=False, avg_occ=avg_occupancy_run['C'][EE], fit_run=fit_run[runEra][EE])\n",
    "\n",
    "# Calculate FDR for Dead tower \n",
    "print(\"\\n>> Validation (Time Correction): Dead Tower samples <<<<<<<<\")\n",
    "dead_losses = do_eval(model, val_loader_run[runEra], epoch, doPadding=doPadding, isDead=True, isHot=False, fakeIndices=fakeIndices, avg_occ=avg_occupancy_run['C'][EE], fit_run=fit_run[runEra][EE])\n",
    "\n",
    "FDR, anom_thres = get_roc(good_losses, dead_losses)\n",
    "FDRs['dead'].append(FDR)\n",
    "all_anom_thres['dead'].append(anom_thres)\n",
    "\n",
    "# Calculate FDR for Hot tower \n",
    "print(\"\\n>> Validation (Time Correction): Hot Tower samples <<<<<<<<\")\n",
    "hot_losses = do_eval(model, val_loader_run[runEra], epoch, doPadding=doPadding, isDead=False, isHot=True, fakeIndices=fakeIndices, avg_occ=avg_occupancy_run['C'][EE], fit_run=fit_run[runEra][EE])\n",
    "\n",
    "FDR, anom_thres = get_roc(good_losses, hot_losses)\n",
    "FDRs['hot'].append(FDR)\n",
    "all_anom_thres['hot'].append(anom_thres)\n",
    "\n",
    "print('\\nFDR')\n",
    "print(FDRs)\n",
    "print('\\nAnomaly Threshold')\n",
    "print(all_anom_thres)"
   ]
  },
  {
   "cell_type": "code",
   "execution_count": 43,
   "id": "aa7da675",
   "metadata": {},
   "outputs": [
    {
     "data": {
      "image/png": "[encoded data removed]",
      "text/plain": [
       "<Figure size 432x288 with 2 Axes>"
      ]
     },
     "metadata": {
      "needs_background": "light"
     },
     "output_type": "display_data"
    }
   ],
   "source": [
    "false_pos = np.zeros((20,20))\n",
    "\n",
    "for index in FP_indices:\n",
    "    false_pos[index[0]][index[1]] += 1\n",
    "    \n",
    "false_pos /= (len(val_loader_run[runEra])*batch_size)\n",
    "    \n",
    "plot_2D(false_pos, title='Run{} (EE+) Good Towers above Thres.'.format(runEra), label = 'LS / (Total LS Analyzed)', doLog=True)"
   ]
  },
  {
   "cell_type": "code",
   "execution_count": null,
   "id": "59930e7d",
   "metadata": {},
   "outputs": [],
   "source": []
  },
  {
   "cell_type": "markdown",
   "id": "9338aea3",
   "metadata": {},
   "source": [
    "## Spatial Correction Scheme #3: Using Cumulated Previous Eras' Average Occupancy"
   ]
  },
  {
   "cell_type": "code",
   "execution_count": null,
   "id": "870d389d",
   "metadata": {},
   "outputs": [],
   "source": []
  },
  {
   "cell_type": "markdown",
   "id": "15667a43",
   "metadata": {},
   "source": [
    "### RunC"
   ]
  },
  {
   "cell_type": "code",
   "execution_count": 50,
   "id": "1e3508c0",
   "metadata": {},
   "outputs": [],
   "source": [
    "runEra = 'C'\n",
    "fakeIndices = generateFakeAnomCoord(validIndex[EE], nCoord = batch_size*len(val_loader_run[runEra]))"
   ]
  },
  {
   "cell_type": "code",
   "execution_count": 51,
   "id": "99823cf6",
   "metadata": {},
   "outputs": [
    {
     "name": "stdout",
     "output_type": "stream",
     "text": [
      "\n",
      ">> Validation (Time Correction): Good samples <<<<<<<<\n",
      "\n",
      "Epoch 33 > Good Val loss: 0.0002\n",
      "\n",
      ">> Validation (Time Correction): Dead Tower samples <<<<<<<<\n",
      "Already dead Already dead Already dead \n",
      "Already dead Already dead Already dead \n",
      "Already dead Already dead Already dead \n",
      "Already dead Already dead Already dead \n",
      "Already dead Already dead Already dead \n",
      "\n",
      "Epoch 33 > Dead Val loss: 0.8733\n",
      "Anomaly threshold = 0.1464\n",
      "FDR = 0.0880\n",
      "\n",
      ">> Validation (Time Correction): Hot Tower samples <<<<<<<<\n",
      "Already dead Already dead Already dead \n",
      "Already dead Already dead Already dead \n",
      "Already dead Already dead Already dead \n",
      "Already dead Already dead Already dead \n",
      "Already dead Already dead Already dead \n",
      "\n",
      "Epoch 33 > Hot (f=0.2) Val loss: 3627704.8428\n",
      "Anomaly threshold = 0.1464\n",
      "FDR = 0.0867\n",
      "\n",
      "FDR\n",
      "{'dead': [0.08800340933304922], 'hot': [0.08668275789694617]}\n",
      "\n",
      "Anomaly Threshold\n",
      "{'dead': [0.1464], 'hot': [0.1464]}\n"
     ]
    }
   ],
   "source": [
    "val_good_loss, val_dead_loss, val_hot_loss = [], [], []\n",
    "\n",
    "FDRs = {'dead': [], 'hot': []}\n",
    "all_anom_thres = {'dead': [], 'hot': []}\n",
    "\n",
    "FP_indices = []\n",
    "\n",
    "# Run Validation\n",
    "model = torch.load('{}ae_epoch{}.pth'.format(modelDir, epoch))\n",
    "model.eval()\n",
    "print(\"\\n>> Validation (Time Correction): Good samples <<<<<<<<\")\n",
    "good_losses = do_eval(model, val_loader_run[runEra], epoch, doPadding=doPadding, isDead=False, isHot=False, avg_occ=avg_occupancy_runAtoB[EE], fit_run=fit_run[runEra][EE])\n",
    "\n",
    "# Calculate FDR for Dead tower \n",
    "print(\"\\n>> Validation (Time Correction): Dead Tower samples <<<<<<<<\")\n",
    "dead_losses = do_eval(model, val_loader_run[runEra], epoch, doPadding=doPadding, isDead=True, isHot=False, fakeIndices=fakeIndices, avg_occ=avg_occupancy_runAtoB[EE], fit_run=fit_run[runEra][EE])\n",
    "\n",
    "FDR, anom_thres = get_roc(good_losses, dead_losses)\n",
    "FDRs['dead'].append(FDR)\n",
    "all_anom_thres['dead'].append(anom_thres)\n",
    "\n",
    "# Calculate FDR for Hot tower \n",
    "print(\"\\n>> Validation (Time Correction): Hot Tower samples <<<<<<<<\")\n",
    "hot_losses = do_eval(model, val_loader_run[runEra], epoch, doPadding=doPadding, isDead=False, isHot=True, fakeIndices=fakeIndices, avg_occ=avg_occupancy_runAtoB[EE], fit_run=fit_run[runEra][EE])\n",
    "\n",
    "FDR, anom_thres = get_roc(good_losses, hot_losses)\n",
    "FDRs['hot'].append(FDR)\n",
    "all_anom_thres['hot'].append(anom_thres)\n",
    "\n",
    "print('\\nFDR')\n",
    "print(FDRs)\n",
    "print('\\nAnomaly Threshold')\n",
    "print(all_anom_thres)"
   ]
  },
  {
   "cell_type": "code",
   "execution_count": 52,
   "id": "9d9c7b62",
   "metadata": {},
   "outputs": [
    {
     "data": {
      "image/png": "[encoded data removed]",
      "text/plain": [
       "<Figure size 432x288 with 2 Axes>"
      ]
     },
     "metadata": {
      "needs_background": "light"
     },
     "output_type": "display_data"
    }
   ],
   "source": [
    "false_pos = np.zeros((20,20))\n",
    "\n",
    "for index in FP_indices:\n",
    "    false_pos[index[0]][index[1]] += 1\n",
    "    \n",
    "false_pos /= (len(val_loader_run[runEra])*batch_size)\n",
    "    \n",
    "plot_2D(false_pos, title='Run{} (EE+) Good Towers above Thres.'.format(runEra), label = 'LS / (Total LS Analyzed)', doLog=True)"
   ]
  },
  {
   "cell_type": "code",
   "execution_count": null,
   "id": "8349396a",
   "metadata": {},
   "outputs": [],
   "source": []
  },
  {
   "cell_type": "markdown",
   "id": "5f0303f6",
   "metadata": {},
   "source": [
    "### RunD"
   ]
  },
  {
   "cell_type": "code",
   "execution_count": 53,
   "id": "b5ec7058",
   "metadata": {},
   "outputs": [],
   "source": [
    "runEra = 'D'\n",
    "fakeIndices = generateFakeAnomCoord(validIndex[EE], nCoord = batch_size*len(val_loader_run[runEra]))"
   ]
  },
  {
   "cell_type": "code",
   "execution_count": 54,
   "id": "b33f04f9",
   "metadata": {},
   "outputs": [
    {
     "name": "stdout",
     "output_type": "stream",
     "text": [
      "\n",
      ">> Validation (Time Correction): Good samples <<<<<<<<\n",
      "\n",
      "Epoch 33 > Good Val loss: 0.0001\n",
      "\n",
      ">> Validation (Time Correction): Dead Tower samples <<<<<<<<\n",
      "\n",
      "Epoch 33 > Dead Val loss: 0.8753\n",
      "Anomaly threshold = 0.1464\n",
      "FDR = 0.0232\n",
      "\n",
      ">> Validation (Time Correction): Hot Tower samples <<<<<<<<\n",
      "\n",
      "Epoch 33 > Hot (f=0.2) Val loss: 4540620.6197\n",
      "Anomaly threshold = 0.1464\n",
      "FDR = 0.0226\n",
      "\n",
      "FDR\n",
      "{'dead': [0.023164120256283883], 'hot': [0.022639691714836225]}\n",
      "\n",
      "Anomaly Threshold\n",
      "{'dead': [0.1464], 'hot': [0.1464]}\n"
     ]
    }
   ],
   "source": [
    "val_good_loss, val_dead_loss, val_hot_loss = [], [], []\n",
    "\n",
    "FDRs = {'dead': [], 'hot': []}\n",
    "all_anom_thres = {'dead': [], 'hot': []}\n",
    "\n",
    "FP_indices = []\n",
    "\n",
    "# Run Validation\n",
    "model = torch.load('{}ae_epoch{}.pth'.format(modelDir, epoch))\n",
    "model.eval()\n",
    "print(\"\\n>> Validation (Time Correction): Good samples <<<<<<<<\")\n",
    "good_losses = do_eval(model, val_loader_run[runEra], epoch, doPadding=doPadding, isDead=False, isHot=False, avg_occ=avg_occupancy_runAtoC[EE], fit_run=fit_run[runEra][EE])\n",
    "\n",
    "# Calculate FDR for Dead tower \n",
    "print(\"\\n>> Validation (Time Correction): Dead Tower samples <<<<<<<<\")\n",
    "dead_losses = do_eval(model, val_loader_run[runEra], epoch, doPadding=doPadding, isDead=True, isHot=False, fakeIndices=fakeIndices, avg_occ=avg_occupancy_runAtoC[EE], fit_run=fit_run[runEra][EE])\n",
    "\n",
    "FDR, anom_thres = get_roc(good_losses, dead_losses)\n",
    "FDRs['dead'].append(FDR)\n",
    "all_anom_thres['dead'].append(anom_thres)\n",
    "\n",
    "# Calculate FDR for Hot tower \n",
    "print(\"\\n>> Validation (Time Correction): Hot Tower samples <<<<<<<<\")\n",
    "hot_losses = do_eval(model, val_loader_run[runEra], epoch, doPadding=doPadding, isDead=False, isHot=True, fakeIndices=fakeIndices, avg_occ=avg_occupancy_runAtoC[EE], fit_run=fit_run[runEra][EE])\n",
    "\n",
    "FDR, anom_thres = get_roc(good_losses, hot_losses)\n",
    "FDRs['hot'].append(FDR)\n",
    "all_anom_thres['hot'].append(anom_thres)\n",
    "\n",
    "print('\\nFDR')\n",
    "print(FDRs)\n",
    "print('\\nAnomaly Threshold')\n",
    "print(all_anom_thres)"
   ]
  },
  {
   "cell_type": "code",
   "execution_count": 55,
   "id": "a93d7fc7",
   "metadata": {},
   "outputs": [
    {
     "data": {
      "image/png": "[encoded data removed]",
      "text/plain": [
       "<Figure size 432x288 with 2 Axes>"
      ]
     },
     "metadata": {
      "needs_background": "light"
     },
     "output_type": "display_data"
    }
   ],
   "source": [
    "false_pos = np.zeros((20,20))\n",
    "\n",
    "for index in FP_indices:\n",
    "    false_pos[index[0]][index[1]] += 1\n",
    "    \n",
    "false_pos /= (len(val_loader_run[runEra])*batch_size)\n",
    "    \n",
    "plot_2D(false_pos, title='Run{} (EE+) Good Towers above Thres.'.format(runEra), label = 'LS / (Total LS Analyzed)', doLog=True)"
   ]
  },
  {
   "cell_type": "code",
   "execution_count": null,
   "id": "470bb3ca",
   "metadata": {},
   "outputs": [],
   "source": []
  },
  {
   "cell_type": "code",
   "execution_count": null,
   "id": "8b594497",
   "metadata": {},
   "outputs": [],
   "source": []
  }
 ],
 "metadata": {
  "kernelspec": {
   "display_name": "Python 3",
   "language": "python",
   "name": "python3"
  },
  "language_info": {
   "codemirror_mode": {
    "name": "ipython",
    "version": 3
   },
   "file_extension": ".py",
   "mimetype": "text/x-python",
   "name": "python",
   "nbconvert_exporter": "python",
   "pygments_lexer": "ipython3",
   "version": "3.8.8"
  }
 },
 "nbformat": 4,
 "nbformat_minor": 5
}
