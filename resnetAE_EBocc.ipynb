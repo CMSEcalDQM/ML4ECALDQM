{
 "cells": [
  {
   "cell_type": "markdown",
   "metadata": {},
   "source": [
    "# ResNet Autoencoder (AE) for ECAL DQM \n",
    "EB Occupancy"
   ]
  },
  {
   "cell_type": "code",
   "execution_count": 1,
   "metadata": {
    "scrolled": true
   },
   "outputs": [],
   "source": [
    "import numpy as np\n",
    "np.random.seed(0)\n",
    "import pyarrow as pa\n",
    "import pyarrow.parquet as pq\n",
    "import torch\n",
    "import torch.nn as nn\n",
    "import torch.nn.functional as F\n",
    "import torch.optim as optim\n",
    "from torch.utils.data import *\n",
    "\n",
    "import time\n",
    "import os, glob\n",
    "os.environ[\"CUDA_VISIBLE_DEVICES\"]=str(3)\n",
    "\n",
    "import matplotlib.pyplot as plt\n",
    "from matplotlib.colors import LogNorm\n",
    "from matplotlib.ticker import MultipleLocator, FixedLocator\n",
    "%matplotlib inline"
   ]
  },
  {
   "cell_type": "markdown",
   "metadata": {},
   "source": [
    "Do a test read of the input data:"
   ]
  },
  {
   "cell_type": "code",
   "execution_count": 2,
   "metadata": {},
   "outputs": [
    {
     "name": "stdout",
     "output_type": "stream",
     "text": [
      "<pyarrow._parquet.ParquetSchema object at 0x7faa64644a90>\n",
      "run: INT64\n",
      "PU: DOUBLE\n",
      "lumi_delivered: DOUBLE\n",
      "EBOccupancyTask_EBOT_digi_occupancy.list.item.list.item: DOUBLE\n",
      "lumi: DOUBLE\n",
      "ls: INT64\n",
      " \n",
      "<pyarrow._parquet.FileMetaData object at 0x7faa03705368>\n",
      "  created_by: parquet-cpp version 1.3.1-SNAPSHOT\n",
      "  num_columns: 6\n",
      "  num_rows: 1203\n",
      "  num_row_groups: 1203\n",
      "  format_version: 1.0\n",
      "  serialized_size: 713392\n"
     ]
    }
   ],
   "source": [
    "f = pq.ParquetFile('DATA/T1_500ev_ECALDQM_run325170.parquet')\n",
    "print(f.schema)\n",
    "print(f.metadata)"
   ]
  },
  {
   "cell_type": "markdown",
   "metadata": {},
   "source": [
    "## Define pre-processing routines and any necessary plotting functions"
   ]
  },
  {
   "cell_type": "code",
   "execution_count": 3,
   "metadata": {},
   "outputs": [],
   "source": [
    "plt.rcParams[\"figure.figsize\"] = (8,6)\n",
    "\n",
    "def plot_EB(img, vmin=0., vmax=1., cmap='Blues', label='Normalized Occupancy'): # cmap = 'jet'\n",
    "    img = np.flipud(img.squeeze())\n",
    "    plt.imshow(img, vmin=vmin, vmax=vmax, cmap=cmap)\n",
    "    plt.xlim([0., 72.])\n",
    "    plt.xlabel(r'$\\mathrm{i\\varphi}$', size=14)\n",
    "    plt.xticks(np.arange(0,72+18,18))\n",
    "    ax = plt.axes()\n",
    "    ax.xaxis.set_tick_params(direction='in', which='major', length=6.)\n",
    "    ax.xaxis.set_tick_params(direction='in', which='minor', length=3.)\n",
    "    ax.yaxis.set_tick_params(direction='in', which='major', length=6.)\n",
    "    ax.yaxis.set_tick_params(direction='in', which='minor', length=3.)\n",
    "    plt.ylabel(r'$\\mathrm{i\\eta}$', size=14)\n",
    "    plt.ylim([0., 34.])\n",
    "    plt.yticks(np.arange(0,34+17,17), [-17,0,17])\n",
    "    plt.colorbar(fraction=0.022, pad=0.04, label=label)\n",
    "    # Plot supermodule boundaries\n",
    "    plt.plot([0,72],[17,17], linewidth=1., linestyle='--', color='black')\n",
    "    for iphi in np.arange(0,72,4):\n",
    "        plt.plot([iphi,iphi],[0,34], linewidth=1., linestyle='--', color='black')\n",
    "    plt.show()\n",
    "    plt.close()"
   ]
  },
  {
   "cell_type": "code",
   "execution_count": 4,
   "metadata": {},
   "outputs": [],
   "source": [
    "def apply_PU_corr(img):\n",
    "    '''\n",
    "    Function to correct occupancy for PU\n",
    "    '''\n",
    "    img = img/6000. # TODO: FIXME\n",
    "    return img"
   ]
  },
  {
   "cell_type": "code",
   "execution_count": 5,
   "metadata": {},
   "outputs": [],
   "source": [
    "def apply_anom_transform(img):\n",
    "    '''\n",
    "    User-defined function for applying anomaly transformation to good samples\n",
    "    '''\n",
    "    img[:,:17,:4] = 0. # TODO: FIXME\n",
    "    return img"
   ]
  },
  {
   "cell_type": "markdown",
   "metadata": {},
   "source": [
    "Do check on test data:"
   ]
  },
  {
   "cell_type": "code",
   "execution_count": 6,
   "metadata": {},
   "outputs": [
    {
     "name": "stdout",
     "output_type": "stream",
     "text": [
      "EB shape: (1, 34, 72)\n",
      "0.18016666666666667 0.9805\n"
     ]
    },
    {
     "name": "stderr",
     "output_type": "stream",
     "text": [
      "/zfsauton/home/mbandrews/.conda/envs/pytorch_root/lib/python3.7/site-packages/matplotlib/cbook/deprecation.py:107: MatplotlibDeprecationWarning: Adding an axes using the same arguments as a previous axes currently reuses the earlier instance.  In a future version, a new instance will always be created and returned.  Meanwhile, this warning can be suppressed, and the future behavior ensured, by passing a unique label to each axes instance.\n",
      "  warnings.warn(message, mplDeprecation, stacklevel=1)\n"
     ]
    },
    {
     "data": {
      "image/png": "[encoded data removed]",
      "text/plain": [
       "<Figure size 576x432 with 2 Axes>"
      ]
     },
     "metadata": {
      "needs_background": "light"
     },
     "output_type": "display_data"
    }
   ],
   "source": [
    "x = np.array(f.read_row_group(0).to_pydict()['EBOccupancyTask_EBOT_digi_occupancy'])\n",
    "x = apply_PU_corr(x)\n",
    "x = apply_anom_transform(x)\n",
    "print('EB shape:',x.shape)\n",
    "print(x[x>0.].min(), x.max())\n",
    "plot_EB(x, cmap='jet')"
   ]
  },
  {
   "cell_type": "markdown",
   "metadata": {},
   "source": [
    "# Define input datasets"
   ]
  },
  {
   "cell_type": "markdown",
   "metadata": {},
   "source": [
    "Define how \"good\" samples are to be read in"
   ]
  },
  {
   "cell_type": "code",
   "execution_count": 7,
   "metadata": {},
   "outputs": [],
   "source": [
    "class ParquetDataset(Dataset):\n",
    "    '''\n",
    "    Define Dataset class for \"good\" samples.\n",
    "    Occ vs PU correction to be applied here to obtain a normalized occupancy as a fn of PU\n",
    "    '''\n",
    "    def __init__(self, filename):\n",
    "        self.parquet = pq.ParquetFile(filename)\n",
    "        #self.cols = None # read all columns\n",
    "        self.cols = ['EBOccupancyTask_EBOT_digi_occupancy.list.item.list.item']\n",
    "    def __getitem__(self, index):\n",
    "        data = self.parquet.read_row_group(index, columns=self.cols).to_pydict()\n",
    "        data['EBOccupancyTask_EBOT_digi_occupancy'] = np.float32(data['EBOccupancyTask_EBOT_digi_occupancy'][0]).reshape(-1,34,72)\n",
    "        data['EBOccupancyTask_EBOT_digi_occupancy'] = apply_PU_corr(data['EBOccupancyTask_EBOT_digi_occupancy'])\n",
    "        return dict(data)\n",
    "    def __len__(self):\n",
    "        return self.parquet.num_row_groups"
   ]
  },
  {
   "cell_type": "markdown",
   "metadata": {},
   "source": [
    "Define how \"anomaly\" samples are to be read in"
   ]
  },
  {
   "cell_type": "code",
   "execution_count": 8,
   "metadata": {},
   "outputs": [],
   "source": [
    "class ParquetDatasetAnom(Dataset):\n",
    "    '''\n",
    "    Define Dataset class for samples which are to be transformed into \"anomalous looking\"\n",
    "    Occ vs PU correction to be applied here to obtain a normalized occupancy as a fn of PU\n",
    "    User-defined anomaly transformation also applied here\n",
    "    '''\n",
    "    def __init__(self, filename):\n",
    "        self.parquet = pq.ParquetFile(filename)\n",
    "        self.cols = None # read all columns\n",
    "        self.cols = ['EBOccupancyTask_EBOT_digi_occupancy.list.item.list.item']\n",
    "    def __getitem__(self, index):\n",
    "        data = self.parquet.read_row_group(index, columns=self.cols).to_pydict()\n",
    "        data['EBOccupancyTask_EBOT_digi_occupancy'] = np.float32(data['EBOccupancyTask_EBOT_digi_occupancy'][0]).reshape(-1,34,72)\n",
    "        data['EBOccupancyTask_EBOT_digi_occupancy'] = apply_PU_corr(data['EBOccupancyTask_EBOT_digi_occupancy'])\n",
    "        data['EBOccupancyTask_EBOT_digi_occupancy'] = apply_anom_transform(data['EBOccupancyTask_EBOT_digi_occupancy'])\n",
    "        return dict(data)\n",
    "    def __len__(self):\n",
    "        return self.parquet.num_row_groups"
   ]
  },
  {
   "cell_type": "markdown",
   "metadata": {},
   "source": [
    "Split data into training, validation, and anomaly sets"
   ]
  },
  {
   "cell_type": "code",
   "execution_count": 9,
   "metadata": {},
   "outputs": [
    {
     "name": "stdout",
     "output_type": "stream",
     "text": [
      ">> N input runs: 0\n"
     ]
    },
    {
     "ename": "AssertionError",
     "evalue": "",
     "output_type": "error",
     "traceback": [
      "\u001b[0;31m---------------------------------------------------------------------------\u001b[0m",
      "\u001b[0;31mAssertionError\u001b[0m                            Traceback (most recent call last)",
      "\u001b[0;32m<ipython-input-9-4faa27e8cdb0>\u001b[0m in \u001b[0;36m<module>\u001b[0;34m\u001b[0m\n\u001b[1;32m      1\u001b[0m \u001b[0minput_runs\u001b[0m \u001b[0;34m=\u001b[0m \u001b[0mglob\u001b[0m\u001b[0;34m.\u001b[0m\u001b[0mglob\u001b[0m\u001b[0;34m(\u001b[0m\u001b[0;34m'IMG/T1_500ev_ECALDQM_run*.parquet'\u001b[0m\u001b[0;34m)\u001b[0m\u001b[0;34m\u001b[0m\u001b[0;34m\u001b[0m\u001b[0m\n\u001b[1;32m      2\u001b[0m \u001b[0mprint\u001b[0m\u001b[0;34m(\u001b[0m\u001b[0;34m'>> N input runs: %s'\u001b[0m\u001b[0;34m%\u001b[0m\u001b[0mlen\u001b[0m\u001b[0;34m(\u001b[0m\u001b[0minput_runs\u001b[0m\u001b[0;34m)\u001b[0m\u001b[0;34m)\u001b[0m\u001b[0;34m\u001b[0m\u001b[0;34m\u001b[0m\u001b[0m\n\u001b[0;32m----> 3\u001b[0;31m \u001b[0;32massert\u001b[0m \u001b[0mlen\u001b[0m\u001b[0;34m(\u001b[0m\u001b[0minput_runs\u001b[0m\u001b[0;34m)\u001b[0m \u001b[0;34m>\u001b[0m \u001b[0;36m0\u001b[0m\u001b[0;34m\u001b[0m\u001b[0;34m\u001b[0m\u001b[0m\n\u001b[0m\u001b[1;32m      4\u001b[0m \u001b[0;34m\u001b[0m\u001b[0m\n\u001b[1;32m      5\u001b[0m \u001b[0;31m# Split input \"good\" dataset into training and validation sets\u001b[0m\u001b[0;34m\u001b[0m\u001b[0;34m\u001b[0m\u001b[0;34m\u001b[0m\u001b[0m\n",
      "\u001b[0;31mAssertionError\u001b[0m: "
     ]
    }
   ],
   "source": [
    "input_runs = glob.glob('IMG/T1_500ev_ECALDQM_run*.parquet')\n",
    "print('>> N input runs: %s'%len(input_runs))\n",
    "assert len(input_runs) > 0\n",
    "\n",
    "# Split input \"good\" dataset into training and validation sets\n",
    "dset_good = ConcatDataset([ParquetDataset('%s'%r) for r in input_runs])\n",
    "print('>> N good samples:',len(dset_good))\n",
    "n_train, n_val = 1e3, 2e2\n",
    "n_train, n_val = int(n_train), int(n_val)\n",
    "print('>> N train samples:',n_train)\n",
    "print('>> N val samples:',n_val)\n",
    "assert n_train+n_val <= len(dset_good)\n",
    "# Shuffle indices before making split\n",
    "# Files may be ordered by run or LS which should not be learned\n",
    "idxs = np.random.permutation(len(dset_good))\n",
    "idxs_train, idxs_val = idxs[:n_train], idxs[-n_val:]\n",
    "\n",
    "# Training set needs to be shuffled\n",
    "sampler_train = sampler.SubsetRandomSampler(idxs_train)\n",
    "loader_train = DataLoader(dataset=dset_good, batch_size=32, num_workers=10, sampler=sampler_train, pin_memory=True)\n",
    "\n",
    "# Do not shuffle validation set so can compare same image from epoch to epoch\n",
    "sampler_val = sampler.SequentialSampler(idxs[-n_val:])\n",
    "loader_val = DataLoader(dataset=dset_good, batch_size=32, num_workers=10, sampler=sampler_val)\n",
    "\n",
    "# Define anomalous images:\n",
    "# Apply transformation on same samples as in validation set\n",
    "dset_anom = ConcatDataset([ParquetDatasetAnom('%s'%r) for r in input_runs])\n",
    "loader_anom = DataLoader(dataset=dset_anom, batch_size=32, num_workers=10, sampler=sampler_val)"
   ]
  },
  {
   "cell_type": "markdown",
   "metadata": {},
   "source": [
    "# Evaluation function\n",
    "\n",
    "Define what to do during the validation phase of the training. For instance, we can look at the original and AE-reconstructed image for some fixed sample at every epoch, and observe how the AE loss map between them changes during training."
   ]
  },
  {
   "cell_type": "code",
   "execution_count": null,
   "metadata": {},
   "outputs": [],
   "source": [
    "def do_eval(ae, val_loader, epoch, dstr='EBOccupancyTask_EBOT_digi_occupancy', idx=0):\n",
    "    loss_ = []\n",
    "    now = time.time()\n",
    "    for i, data in enumerate(val_loader):\n",
    "        X = data[dstr].cuda()\n",
    "        Xreco = ae(X)\n",
    "        # By default, torch.mse_loss takes batch-averaged loss\n",
    "        # During validation phase, want to know EB loss map for each sample (LS) in the batch\n",
    "        # reduction='none' calculates loss on each *pixel* in image\n",
    "        losses = F.mse_loss(Xreco, X, reduction='none')\n",
    "        #losses = losses.view(losses.size()[0],-1).mean(dim=-1) # For calculating single loss per sample in batch\n",
    "        loss_.append(losses.tolist())\n",
    "        # To monitor progress from epoch to epoch, \n",
    "        # explicity plot original and AE-reconstructed images for idx-th sample in the first batch\n",
    "        # then plot the loss map\n",
    "        if i == 0:\n",
    "            # Original image:\n",
    "            print(' >> original image:')\n",
    "            img = X[idx].cpu().numpy()\n",
    "            plot_EB(img)\n",
    "            # AE-reconstructed image\n",
    "            print(' >> AE-reco image:')\n",
    "            img_reco = Xreco[idx].detach().cpu().numpy()\n",
    "            plot_EB(img_reco)\n",
    "            # Loss map\n",
    "            print(' >> loss map:')\n",
    "            img_loss = F.mse_loss(Xreco[idx], X[idx], reduction='none').detach().cpu().numpy()\n",
    "            plot_EB(img_loss, vmax=0.2, cmap='jet')\n",
    "\n",
    "    now = time.time() - now\n",
    "    loss_ = np.concatenate(loss_)\n",
    "    \n",
    "    s = '%d: Val loss:%f, MAE: %f GeV, N samples: %d in %f min'%(epoch, loss_.mean(), (np.sqrt(loss_)).mean(), len(loss_), now/60.)\n",
    "    print(s)\n",
    "    return loss_"
   ]
  },
  {
   "cell_type": "markdown",
   "metadata": {},
   "source": [
    "# Define AE model\n",
    "\n",
    "Construct a baseline ResNet autoencoder for both encoding and decoding. During the decoding phase, run an inverse ResNet network (i.e. using transposed convolutions), trying as much as possible to follow the intermediate sizes of the encoding ResNet except going in reverse."
   ]
  },
  {
   "cell_type": "markdown",
   "metadata": {},
   "source": [
    "Define ResNet blocks for encoding and decoding"
   ]
  },
  {
   "cell_type": "code",
   "execution_count": null,
   "metadata": {},
   "outputs": [],
   "source": [
    "class ResBlock(nn.Module):\n",
    "    '''\n",
    "    For encoding, define the nominal resnet block\n",
    "    '''\n",
    "    def __init__(self, in_channels, out_channels):\n",
    "        super(ResBlock, self).__init__()\n",
    "        self.downsample = out_channels//in_channels\n",
    "        self.conv1 = nn.Conv2d(in_channels, out_channels, kernel_size=3, stride=self.downsample, padding=1)\n",
    "        self.relu = nn.ReLU(inplace=True)\n",
    "        self.conv2 = nn.Conv2d(out_channels, out_channels, kernel_size=3, padding=1)\n",
    "        self.shortcut = nn.Conv2d(in_channels, out_channels, kernel_size=1, stride=self.downsample)\n",
    "\n",
    "    def forward(self, x):\n",
    "        residual = x\n",
    "\n",
    "        out = self.conv1(x)\n",
    "        out = self.relu(out)\n",
    "        out = self.conv2(out)\n",
    "\n",
    "        if self.downsample > 1:\n",
    "            residual = self.shortcut(x)\n",
    "\n",
    "        out += residual\n",
    "        out = self.relu(out)\n",
    "\n",
    "        return out\n",
    "\n",
    "class ResBlockTranspose(nn.Module):\n",
    "    '''\n",
    "    For decoding, define the transposed resnet block, aka \"de-convolution\"\n",
    "    '''\n",
    "    def __init__(self, in_channels, out_channels, out_shape=None):\n",
    "        super(ResBlockTranspose, self).__init__()\n",
    "        self.upsample = in_channels//out_channels  \n",
    "        self.convT1 = nn.ConvTranspose2d(in_channels, out_channels, kernel_size=3, stride=self.upsample, padding=1)\n",
    "        self.relu = nn.ReLU(inplace=True)\n",
    "        self.convT2 = nn.ConvTranspose2d(out_channels, out_channels, kernel_size=3, padding=1)\n",
    "\n",
    "        self.shortcutT = nn.ConvTranspose2d(in_channels, out_channels, kernel_size=1, stride=self.upsample)\n",
    "        self.out_shape = out_shape\n",
    "\n",
    "    def forward(self, x):\n",
    "        residual = x\n",
    "        \n",
    "        if self.out_shape is None:\n",
    "            out = self.convT1(x)\n",
    "        else:\n",
    "            out = self.convT1(x, output_size=(x.size()[0], x.size()[1], self.out_shape[0], self.out_shape[1]))\n",
    "        out = self.relu(out)\n",
    "        out = self.convT2(out)\n",
    "\n",
    "        if self.upsample > 1:\n",
    "            if self.out_shape is None:\n",
    "                residual = self.shortcutT(x)\n",
    "            else:\n",
    "                residual = self.shortcutT(x, output_size=(x.size()[0], x.size()[1], self.out_shape[0], self.out_shape[1]))\n",
    "            \n",
    "        out += residual\n",
    "        out = self.relu(out)\n",
    "\n",
    "        return out"
   ]
  },
  {
   "cell_type": "markdown",
   "metadata": {},
   "source": [
    "Define the full ResNet autoencoder module"
   ]
  },
  {
   "cell_type": "code",
   "execution_count": null,
   "metadata": {},
   "outputs": [],
   "source": [
    "class ResNetAE(nn.Module):\n",
    "    '''\n",
    "    Define the full ResNet autoencoder model\n",
    "    '''\n",
    "    def __init__(self, in_channels, nblocks, fmaps):\n",
    "        super(ResNetAE, self).__init__()\n",
    "\n",
    "        self.fmaps = fmaps\n",
    "        self.nblocks = nblocks\n",
    "        self.in_channels = in_channels\n",
    "        \n",
    "        # Initialize encoding layers\n",
    "        self.econv0 = nn.Sequential(nn.Conv2d(in_channels, fmaps[0], kernel_size=7, stride=2, padding=1), nn.ReLU())\n",
    "        self.elayer1 = self.block_layers(self.nblocks, [fmaps[0],fmaps[0]], 'enc')\n",
    "        self.elayer2 = self.block_layers(1, [fmaps[0],fmaps[1]], 'enc')\n",
    "        self.elayer3 = self.block_layers(self.nblocks, [fmaps[1],fmaps[1]], 'enc')\n",
    "        \n",
    "        # Initialize decoding layers\n",
    "        self.fc = nn.Linear(self.fmaps[1], self.fmaps[1]*4*9) # 5x5\n",
    "        self.dlayer3 = self.block_layers(self.nblocks, [fmaps[1],fmaps[1]], 'dec', out_shape=None)\n",
    "        self.dlayer2 = self.block_layers(1, [fmaps[1],fmaps[0]], 'dec', out_shape=None)\n",
    "        self.dlayer1 = self.block_layers(self.nblocks, [fmaps[0],fmaps[0]], 'dec', out_shape=None)        \n",
    "        self.dconv0 = nn.ConvTranspose2d(fmaps[0], in_channels, kernel_size=7, stride=2, padding=(0,1))\n",
    "        self.dconv0_relu = nn.ReLU(inplace=True)\n",
    "        \n",
    "        self.debug = False\n",
    "        #self.debug = True\n",
    "\n",
    "    def block_layers(self, nblocks, fmaps, state, out_shape=None):\n",
    "        '''\n",
    "        Convenience function: append several resnet blocks in sequence\n",
    "        '''\n",
    "        layers = []\n",
    "        for _ in range(nblocks):\n",
    "            if state == 'enc':\n",
    "                layers.append(ResBlock(fmaps[0], fmaps[1]))\n",
    "            else:\n",
    "                layers.append(ResBlockTranspose(fmaps[0], fmaps[1], out_shape)) \n",
    "        return nn.Sequential(*layers)\n",
    "\n",
    "    '''\n",
    "    For VAE:\n",
    "    def reparameterize(self, mu, logvar):\n",
    "        std = logvar.mul(0.5).exp_()\n",
    "        # return torch.normal(mu, std)\n",
    "        esp = torch.randn(*mu.size()).cuda()\n",
    "        z = mu + std * esp\n",
    "        return z\n",
    "    '''\n",
    "\n",
    "    def forward(self, x):\n",
    "        \n",
    "        # Encoding\n",
    "        if self.debug: print(x.size())\n",
    "        if self.debug: print(\"Encode\")\n",
    "        x = self.econv0(x)\n",
    "        if self.debug: print(x.size())\n",
    "        x = F.max_pool2d(x, kernel_size=2)\n",
    "        if self.debug: print(x.size())\n",
    "\n",
    "        x = self.elayer1(x)\n",
    "        if self.debug: print(x.size())\n",
    "        x = self.elayer2(x)\n",
    "        if self.debug: print(x.size())\n",
    "        x = self.elayer3(x)\n",
    "        if self.debug: print(x.size())\n",
    "        \n",
    "        # Bottleneck comes from GlobalMaxPool\n",
    "        if self.debug: print(\"Maxpool-FC\")\n",
    "        x = F.max_pool2d(x, kernel_size=x.size()[2:])\n",
    "        #if self.debug: print(x.size())\n",
    "        x = x.view(x.size()[0], -1)\n",
    "        if self.debug: print(x.size())\n",
    "        \n",
    "        '''\n",
    "        For VAE:\n",
    "        mu, logvar = self.fc_mu(x), self.fc_logvar(x)\n",
    "        z = self.reparameterize(mu, logvar)\n",
    "        '''\n",
    "        \n",
    "        # Expand bottleneck\n",
    "        # Dimensions follow encoding steps in reverse, as much as possible\n",
    "        x = self.fc(x) # expand\n",
    "        if self.debug: print(x.size())\n",
    "        x = x.view(-1, self.fmaps[1], 4, 9)\n",
    "        if self.debug: print(x.size())        \n",
    "        \n",
    "        # Decoding\n",
    "        if self.debug: print(\"Decode\")\n",
    "        x = self.dlayer3(x)\n",
    "        if self.debug: print(x.size())\n",
    "        x = self.dlayer2(x)\n",
    "        if self.debug: print(x.size())\n",
    "        x = self.dlayer1(x)\n",
    "        if self.debug: print(x.size())\n",
    "        \n",
    "        x = F.interpolate(x, scale_factor=2)\n",
    "        if self.debug: print(x.size())\n",
    "        x = self.dconv0(x, output_size=(x.size()[0], self.in_channels, 170//5, 360//5))\n",
    "        if self.debug: print(x.size())\n",
    "        x = self.dconv0_relu(x)\n",
    "            \n",
    "        return x\n",
    "        #return x, mu, logvar"
   ]
  },
  {
   "cell_type": "markdown",
   "metadata": {},
   "source": [
    "# Auto-encoder Training Loop\n",
    "\n",
    "Actual training loop is run here."
   ]
  },
  {
   "cell_type": "code",
   "execution_count": null,
   "metadata": {
    "scrolled": false
   },
   "outputs": [],
   "source": [
    "# Initialize AE model\n",
    "ae = ResNetAE(1, 3, [16, 32])\n",
    "ae.cuda()\n",
    "# Initialize optimizer\n",
    "optimizer = optim.Adam(ae.parameters(), lr=5.e-4)\n",
    "\n",
    "epochs = 1\n",
    "monitor_step = 2000\n",
    "for e in range(epochs):\n",
    "\n",
    "    epoch = e+1\n",
    "    s = '>> Epoch %d <<<<<<<<'%(epoch)\n",
    "    print(s)\n",
    "\n",
    "    # Run training\n",
    "    ae.train()\n",
    "    print(\">> Training <<<<<<<<\")\n",
    "    now = time.time()\n",
    "    for i, data in enumerate(loader_train):\n",
    "        X = data['EBOccupancyTask_EBOT_digi_occupancy'].cuda()\n",
    "        # Reset gradient at each batch\n",
    "        optimizer.zero_grad()\n",
    "        # AE-reconstructed images\n",
    "        Xreco = ae(X)\n",
    "        # Batch-averaged loss\n",
    "        loss = F.mse_loss(Xreco, X)\n",
    "        '''\n",
    "        For VAE:\n",
    "        #Xreco, mu, logvar = ae(X)\n",
    "        #loss, mse, kld = vae_loss(Xreco, X, mu, logvar)\n",
    "        '''\n",
    "        # Calculate backprop errors\n",
    "        loss.backward()\n",
    "        # Update network weights\n",
    "        optimizer.step()\n",
    "        # To monitor training progress during the epoch\n",
    "        # explicity plot original and AE-reconstructed images for 0-th sample in every monitor_step batch\n",
    "        # then plot the loss map\n",
    "        if i % monitor_step == 0:\n",
    "            # Original image:\n",
    "            print(' >> original image:')\n",
    "            img = X[0].cpu().numpy()\n",
    "            plot_EB(img)\n",
    "            # AE-reconstructed image\n",
    "            print(' >> AE-reco image:')\n",
    "            img_reco = Xreco[0].detach().cpu().numpy()\n",
    "            plot_EB(img_reco)\n",
    "            # Loss map\n",
    "            print(' >> loss map:')\n",
    "            img_loss = F.mse_loss(Xreco[0], X[0], reduction='none').detach().cpu().numpy()\n",
    "            plot_EB(img_loss, vmax=0.2, cmap='jet', label='Loss Map')\n",
    "            print('%d: (%d/%d) Train loss:%f, Emax: %f, Erecomax: %f'%(epoch, i, len(loader_train), loss.item(), img.max(), img_reco.max()))\n",
    "        #break\n",
    "    now = time.time() - now\n",
    "    s = '%d: Train time:%.2f min in %d steps'%(epoch, now/60, len(loader_train))\n",
    "    print(s)\n",
    "\n",
    "    # Run Validation\n",
    "    print(\">> Validation <<<<<<<<\")\n",
    "    ae.eval()\n",
    "    _ = do_eval(ae, loader_val, epoch)\n",
    "    _ = do_eval(ae, loader_anom, epoch)"
   ]
  }
 ],
 "metadata": {
  "kernelspec": {
   "display_name": "Python 3",
   "language": "python",
   "name": "python3"
  },
  "language_info": {
   "codemirror_mode": {
    "name": "ipython",
    "version": 3
   },
   "file_extension": ".py",
   "mimetype": "text/x-python",
   "name": "python",
   "nbconvert_exporter": "python",
   "pygments_lexer": "ipython3",
   "version": "3.7.1"
  }
 },
 "nbformat": 4,
 "nbformat_minor": 2
}
